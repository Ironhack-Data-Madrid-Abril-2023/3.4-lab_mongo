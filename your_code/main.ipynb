{
 "cells": [
  {
   "cell_type": "markdown",
   "metadata": {},
   "source": [
    "# Advanced Querying Mongo"
   ]
  },
  {
   "cell_type": "markdown",
   "metadata": {},
   "source": [
    "Importing libraries and setting up connection"
   ]
  },
  {
   "cell_type": "code",
   "execution_count": 5,
   "metadata": {},
   "outputs": [
    {
     "name": "stdout",
     "output_type": "stream",
     "text": [
      "Requirement already satisfied: pymongo in c:\\users\\usuario\\appdata\\local\\programs\\python\\python311\\lib\\site-packages (4.3.3)\n",
      "Requirement already satisfied: dnspython<3.0.0,>=1.16.0 in c:\\users\\usuario\\appdata\\local\\programs\\python\\python311\\lib\\site-packages (from pymongo) (2.3.0)\n",
      "Note: you may need to restart the kernel to use updated packages.\n"
     ]
    },
    {
     "name": "stderr",
     "output_type": "stream",
     "text": [
      "\n",
      "[notice] A new release of pip available: 22.3.1 -> 23.1\n",
      "[notice] To update, run: python.exe -m pip install --upgrade pip\n"
     ]
    }
   ],
   "source": [
    "%pip install pymongo\n",
    "\n",
    "from pymongo import MongoClient\n",
    "client = MongoClient()\n",
    "str_conn = 'mongodb://localhost:27017'\n",
    "cursor = MongoClient(str_conn)\n"
   ]
  },
  {
   "cell_type": "code",
   "execution_count": 6,
   "metadata": {},
   "outputs": [],
   "source": [
    "db = client.Companies\n",
    "colec = db.tabla_1"
   ]
  },
  {
   "cell_type": "code",
   "execution_count": 7,
   "metadata": {},
   "outputs": [
    {
     "data": {
      "text/plain": [
       "['Companies', 'admin', 'config', 'local']"
      ]
     },
     "execution_count": 7,
     "metadata": {},
     "output_type": "execute_result"
    }
   ],
   "source": [
    "client.list_database_names()"
   ]
  },
  {
   "cell_type": "code",
   "execution_count": 9,
   "metadata": {},
   "outputs": [],
   "source": [
    "#list(colec.find())"
   ]
  },
  {
   "cell_type": "markdown",
   "metadata": {},
   "source": [
    "### 1. All the companies whose name match 'Babelgum'. Retrieve only their `name` field."
   ]
  },
  {
   "cell_type": "code",
   "execution_count": 19,
   "metadata": {},
   "outputs": [
    {
     "data": {
      "text/plain": [
       "[{'name': 'Babelgum'}]"
      ]
     },
     "execution_count": 19,
     "metadata": {},
     "output_type": "execute_result"
    }
   ],
   "source": [
    "query = {'name': 'Babelgum'}\n",
    "\n",
    "select = {'name' : True, '_id' : False}\n",
    "\n",
    "list(colec.find(query, select))"
   ]
  },
  {
   "cell_type": "markdown",
   "metadata": {},
   "source": [
    "### 2. All the companies that have more than 5000 employees. Limit the search to 20 companies and sort them by **number of employees**."
   ]
  },
  {
   "cell_type": "code",
   "execution_count": 20,
   "metadata": {},
   "outputs": [
    {
     "data": {
      "text/plain": [
       "[{'name': 'Siemens', 'number_of_employees': 405000},\n",
       " {'name': 'IBM', 'number_of_employees': 388000},\n",
       " {'name': 'Toyota', 'number_of_employees': 320000},\n",
       " {'name': 'PayPal', 'number_of_employees': 300000},\n",
       " {'name': 'Nippon Telegraph and Telephone Corporation',\n",
       "  'number_of_employees': 227000},\n",
       " {'name': 'Samsung Electronics', 'number_of_employees': 221726},\n",
       " {'name': 'Accenture', 'number_of_employees': 205000},\n",
       " {'name': 'Tata Consultancy Services', 'number_of_employees': 200300},\n",
       " {'name': 'Flextronics International', 'number_of_employees': 200000},\n",
       " {'name': 'Safeway', 'number_of_employees': 186000},\n",
       " {'name': 'Sony', 'number_of_employees': 180500},\n",
       " {'name': 'LG', 'number_of_employees': 177000},\n",
       " {'name': 'Ford', 'number_of_employees': 171000},\n",
       " {'name': 'Boeing', 'number_of_employees': 160000},\n",
       " {'name': 'Digital Equipment Corporation', 'number_of_employees': 140000},\n",
       " {'name': 'Nokia', 'number_of_employees': 125000},\n",
       " {'name': 'MItsubishi Electric', 'number_of_employees': 107000},\n",
       " {'name': 'MItsubishi Electric', 'number_of_employees': 107000},\n",
       " {'name': 'Comcast', 'number_of_employees': 100000},\n",
       " {'name': 'Bertelsmann', 'number_of_employees': 100000}]"
      ]
     },
     "execution_count": 20,
     "metadata": {},
     "output_type": "execute_result"
    }
   ],
   "source": [
    "query = {'number_of_employees': {'$gte': 5000}}\n",
    "\n",
    "select = {'name' : True, 'number_of_employees' : True, '_id' : False}\n",
    "\n",
    "list(colec.find(query, select).sort('number_of_employees', -1).limit(20))"
   ]
  },
  {
   "cell_type": "markdown",
   "metadata": {},
   "source": [
    "### 3. All the companies founded between 2000 and 2005, both years included. Retrieve only the `name` and `founded_year` fields."
   ]
  },
  {
   "cell_type": "code",
   "execution_count": 35,
   "metadata": {},
   "outputs": [
    {
     "data": {
      "text/plain": [
       "[{'name': 'Wetpaint', 'founded_year': 2005},\n",
       " {'name': 'Zoho', 'founded_year': 2005},\n",
       " {'name': 'Digg', 'founded_year': 2004},\n",
       " {'name': 'Facebook', 'founded_year': 2004},\n",
       " {'name': 'Omnidrive', 'founded_year': 2005},\n",
       " {'name': 'StumbleUpon', 'founded_year': 2002},\n",
       " {'name': 'Gizmoz', 'founded_year': 2003},\n",
       " {'name': 'Helio', 'founded_year': 2005},\n",
       " {'name': 'Plaxo', 'founded_year': 2002},\n",
       " {'name': 'Technorati', 'founded_year': 2002},\n",
       " {'name': 'AddThis', 'founded_year': 2004},\n",
       " {'name': 'Veoh', 'founded_year': 2004},\n",
       " {'name': 'Jingle Networks', 'founded_year': 2005},\n",
       " {'name': 'Meetup', 'founded_year': 2002},\n",
       " {'name': 'LifeLock', 'founded_year': 2005},\n",
       " {'name': 'Wesabe', 'founded_year': 2005},\n",
       " {'name': 'Jangl SMS', 'founded_year': 2005},\n",
       " {'name': 'SmugMug', 'founded_year': 2002},\n",
       " {'name': 'Jajah', 'founded_year': 2005},\n",
       " {'name': 'Skype', 'founded_year': 2003}]"
      ]
     },
     "execution_count": 35,
     "metadata": {},
     "output_type": "execute_result"
    }
   ],
   "source": [
    "query = {'$and': [{'founded_year': {'$lte': 2005}},\n",
    "                {'founded_year': {'$gte': 2000}}]}\n",
    "\n",
    "select = {'name' : True, 'founded_year' : True, '_id' : False}\n",
    "\n",
    "list(colec.find(query, select).limit(20))"
   ]
  },
  {
   "cell_type": "markdown",
   "metadata": {},
   "source": [
    "### 4. All the companies that had a Valuation Amount of more than 100.000.000 and have been founded before 2010. Retrieve only the `name` and `ipo` fields."
   ]
  },
  {
   "cell_type": "code",
   "execution_count": 26,
   "metadata": {},
   "outputs": [
    {
     "data": {
      "text/plain": [
       "[{'name': 'GREE', 'ipo': {'valuation_amount': 108960000000.0}},\n",
       " {'name': 'Facebook', 'ipo': {'valuation_amount': 104000000000.0}},\n",
       " {'name': 'Amazon', 'ipo': {'valuation_amount': 100000000000.0}},\n",
       " {'name': 'Twitter', 'ipo': {'valuation_amount': 18100000000.0}},\n",
       " {'name': 'Groupon', 'ipo': {'valuation_amount': 12800000000.0}},\n",
       " {'name': 'Tencent', 'ipo': {'valuation_amount': 11000000000.0}},\n",
       " {'name': 'Western Digital', 'ipo': {'valuation_amount': 9430000000.0}},\n",
       " {'name': 'LinkedIn', 'ipo': {'valuation_amount': 9310000000.0}},\n",
       " {'name': 'BMC Software', 'ipo': {'valuation_amount': 6000000000.0}},\n",
       " {'name': 'Rackspace', 'ipo': {'valuation_amount': 5440000000.0}},\n",
       " {'name': 'Baidu', 'ipo': {'valuation_amount': 4000000000.0}},\n",
       " {'name': 'TripAdvisor', 'ipo': {'valuation_amount': 3273770000.0}},\n",
       " {'name': 'HomeAway', 'ipo': {'valuation_amount': 3000000000.0}},\n",
       " {'name': 'Zillow', 'ipo': {'valuation_amount': 2550000000.0}},\n",
       " {'name': 'Nielsen', 'ipo': {'valuation_amount': 1600000000}},\n",
       " {'name': 'Yelp', 'ipo': {'valuation_amount': 1300000000}},\n",
       " {'name': 'Chegg', 'ipo': {'valuation_amount': 1100000000}},\n",
       " {'name': 'Chegg', 'ipo': {'valuation_amount': 1100000000}},\n",
       " {'name': 'Higher One', 'ipo': {'valuation_amount': 1060000000}},\n",
       " {'name': 'OpenTable', 'ipo': {'valuation_amount': 1050000000}}]"
      ]
     },
     "execution_count": 26,
     "metadata": {},
     "output_type": "execute_result"
    }
   ],
   "source": [
    "query = {'$and': [{'ipo.valuation_amount': {'$gte': 1e8}},\n",
    "                  {'founded_year': {'$lte': 2010}}]}\n",
    "\n",
    "select = {'name' : True, 'ipo.valuation_amount' : True, '_id' : False}\n",
    "\n",
    "list(colec.find(query, select).sort('ipo.valuation_amount', -1).limit(20))"
   ]
  },
  {
   "cell_type": "markdown",
   "metadata": {},
   "source": [
    "### 5. All the companies that have less than 1000 employees and have been founded before 2005. Order them by the number of employees and limit the search to 10 companies."
   ]
  },
  {
   "cell_type": "code",
   "execution_count": 34,
   "metadata": {},
   "outputs": [
    {
     "data": {
      "text/plain": [
       "[{'name': 'Wetpaint', 'number_of_employees': 47, 'founded_year': 2005},\n",
       " {'name': 'AdventNet', 'number_of_employees': 600, 'founded_year': 1996},\n",
       " {'name': 'Digg', 'number_of_employees': 60, 'founded_year': 2004},\n",
       " {'name': 'Fox Interactive Media',\n",
       "  'number_of_employees': 0,\n",
       "  'founded_year': 1979},\n",
       " {'name': 'Plaxo', 'number_of_employees': 50, 'founded_year': 2002},\n",
       " {'name': 'Technorati', 'number_of_employees': 35, 'founded_year': 2002},\n",
       " {'name': 'AddThis', 'number_of_employees': 120, 'founded_year': 2004},\n",
       " {'name': 'Jingle Networks', 'number_of_employees': 35, 'founded_year': 2005},\n",
       " {'name': 'Meetup', 'number_of_employees': 75, 'founded_year': 2002},\n",
       " {'name': 'LifeLock', 'number_of_employees': 644, 'founded_year': 2005}]"
      ]
     },
     "execution_count": 34,
     "metadata": {},
     "output_type": "execute_result"
    }
   ],
   "source": [
    "query = {'$and': [{'number_of_employees': {'$lte': 1e3}},\n",
    "                {'founded_year': {'$lte': 2005}}]}\n",
    "\n",
    "select = {'name' : True, 'founded_year' : True, 'number_of_employees' : True, '_id' : False}\n",
    "\n",
    "list(colec.find(query, select).limit(10))"
   ]
  },
  {
   "cell_type": "markdown",
   "metadata": {},
   "source": [
    "### 6. All the companies that don't include the `partners` field."
   ]
  },
  {
   "cell_type": "code",
   "execution_count": 30,
   "metadata": {},
   "outputs": [
    {
     "data": {
      "text/plain": [
       "[{'name': 'Wetpaint'},\n",
       " {'name': 'AdventNet'},\n",
       " {'name': 'Zoho'},\n",
       " {'name': 'Digg'},\n",
       " {'name': 'Facebook'},\n",
       " {'name': 'Omnidrive'},\n",
       " {'name': 'Postini'},\n",
       " {'name': 'Geni'},\n",
       " {'name': 'Flektor'},\n",
       " {'name': 'Fox Interactive Media'}]"
      ]
     },
     "execution_count": 30,
     "metadata": {},
     "output_type": "execute_result"
    }
   ],
   "source": [
    "query = {'partners': {'$exists': True}}\n",
    "\n",
    "select = {'name' : True, '_id' : False}\n",
    "\n",
    "list(colec.find(query, select).limit(10))"
   ]
  },
  {
   "cell_type": "markdown",
   "metadata": {},
   "source": [
    "### 7. All the companies that have a null type of value on the `category_code` field."
   ]
  },
  {
   "cell_type": "code",
   "execution_count": 31,
   "metadata": {},
   "outputs": [
    {
     "data": {
      "text/plain": [
       "[{'name': 'Collective'},\n",
       " {'name': 'Snimmer'},\n",
       " {'name': 'KoolIM'},\n",
       " {'name': 'Level9 Media'},\n",
       " {'name': 'VidKing'},\n",
       " {'name': 'Drigg'},\n",
       " {'name': 'SpaceTime'},\n",
       " {'name': 'Touch Clarity'},\n",
       " {'name': 'MMDAYS'},\n",
       " {'name': 'Inside Group'}]"
      ]
     },
     "execution_count": 31,
     "metadata": {},
     "output_type": "execute_result"
    }
   ],
   "source": [
    "query = {'category_code': None}\n",
    "\n",
    "select = {'name' : True, '_id' : False}\n",
    "\n",
    "list(colec.find(query, select).limit(10))"
   ]
  },
  {
   "cell_type": "markdown",
   "metadata": {},
   "source": [
    "### 8. All the companies that have at least 100 employees but less than 1000. Retrieve only the `name` and `number of employees` fields."
   ]
  },
  {
   "cell_type": "code",
   "execution_count": 33,
   "metadata": {},
   "outputs": [
    {
     "data": {
      "text/plain": [
       "[{'name': 'AdventNet', 'number_of_employees': 600},\n",
       " {'name': 'AddThis', 'number_of_employees': 120},\n",
       " {'name': 'OpenX', 'number_of_employees': 305},\n",
       " {'name': 'LifeLock', 'number_of_employees': 644},\n",
       " {'name': 'Jajah', 'number_of_employees': 110},\n",
       " {'name': 'Livestream', 'number_of_employees': 120},\n",
       " {'name': 'Ustream', 'number_of_employees': 250},\n",
       " {'name': 'iContact', 'number_of_employees': 300},\n",
       " {'name': 'Yelp', 'number_of_employees': 800},\n",
       " {'name': 'Dailymotion', 'number_of_employees': 120}]"
      ]
     },
     "execution_count": 33,
     "metadata": {},
     "output_type": "execute_result"
    }
   ],
   "source": [
    "query = {'$and': [{'number_of_employees': {'$gte': 1e2}},\n",
    "                {'number_of_employees': {'$lte': 1e3}}]}\n",
    "\n",
    "select = {'name' : True, 'number_of_employees' : True, '_id' : False}\n",
    "\n",
    "list(colec.find(query, select).limit(10))"
   ]
  },
  {
   "cell_type": "markdown",
   "metadata": {},
   "source": [
    "### 9. Order all the companies by their IPO price in a descending order."
   ]
  },
  {
   "cell_type": "code",
   "execution_count": 54,
   "metadata": {},
   "outputs": [
    {
     "data": {
      "text/plain": [
       "[{'name': 'GREE', 'ipo': {'valuation_amount': 108960000000.0}},\n",
       " {'name': 'Facebook', 'ipo': {'valuation_amount': 104000000000.0}},\n",
       " {'name': 'Amazon', 'ipo': {'valuation_amount': 100000000000.0}},\n",
       " {'name': 'Twitter', 'ipo': {'valuation_amount': 18100000000.0}},\n",
       " {'name': 'Groupon', 'ipo': {'valuation_amount': 12800000000.0}},\n",
       " {'name': 'Tencent', 'ipo': {'valuation_amount': 11000000000.0}},\n",
       " {'name': 'Western Digital', 'ipo': {'valuation_amount': 9430000000.0}},\n",
       " {'name': 'LinkedIn', 'ipo': {'valuation_amount': 9310000000.0}},\n",
       " {'name': 'BMC Software', 'ipo': {'valuation_amount': 6000000000.0}},\n",
       " {'name': 'Rackspace', 'ipo': {'valuation_amount': 5440000000.0}},\n",
       " {'name': 'Baidu', 'ipo': {'valuation_amount': 4000000000.0}},\n",
       " {'name': 'TripAdvisor', 'ipo': {'valuation_amount': 3273770000.0}},\n",
       " {'name': 'HomeAway', 'ipo': {'valuation_amount': 3000000000.0}},\n",
       " {'name': 'Zillow', 'ipo': {'valuation_amount': 2550000000.0}},\n",
       " {'name': 'Nielsen', 'ipo': {'valuation_amount': 1600000000}},\n",
       " {'name': 'Yelp', 'ipo': {'valuation_amount': 1300000000}},\n",
       " {'name': 'Chegg', 'ipo': {'valuation_amount': 1100000000}},\n",
       " {'name': 'Chegg', 'ipo': {'valuation_amount': 1100000000}},\n",
       " {'name': 'RPX Corporation', 'ipo': {'valuation_amount': 1096000000}},\n",
       " {'name': 'Higher One', 'ipo': {'valuation_amount': 1060000000}}]"
      ]
     },
     "execution_count": 54,
     "metadata": {},
     "output_type": "execute_result"
    }
   ],
   "source": [
    "select = {'name' : True, 'ipo.valuation_amount' : True, '_id' : False}\n",
    "\n",
    "list(colec.find({}, select).sort('ipo.valuation_amount', -1).limit(20))"
   ]
  },
  {
   "cell_type": "markdown",
   "metadata": {},
   "source": [
    "### 10. Retrieve the 10 companies with more employees, order by the `number of employees`"
   ]
  },
  {
   "cell_type": "code",
   "execution_count": 55,
   "metadata": {},
   "outputs": [
    {
     "data": {
      "text/plain": [
       "[{'name': 'Siemens', 'number_of_employees': 405000},\n",
       " {'name': 'IBM', 'number_of_employees': 388000},\n",
       " {'name': 'Toyota', 'number_of_employees': 320000},\n",
       " {'name': 'PayPal', 'number_of_employees': 300000},\n",
       " {'name': 'Nippon Telegraph and Telephone Corporation',\n",
       "  'number_of_employees': 227000},\n",
       " {'name': 'Samsung Electronics', 'number_of_employees': 221726},\n",
       " {'name': 'Accenture', 'number_of_employees': 205000},\n",
       " {'name': 'Tata Consultancy Services', 'number_of_employees': 200300},\n",
       " {'name': 'Flextronics International', 'number_of_employees': 200000},\n",
       " {'name': 'Safeway', 'number_of_employees': 186000}]"
      ]
     },
     "execution_count": 55,
     "metadata": {},
     "output_type": "execute_result"
    }
   ],
   "source": [
    "select = {'name' : True, 'number_of_employees' : True, '_id' : False}\n",
    "\n",
    "list(colec.find({}, select).sort('number_of_employees', -1).limit(10))"
   ]
  },
  {
   "cell_type": "markdown",
   "metadata": {},
   "source": [
    "### 11. All the companies founded on the second semester of the year. Limit your search to 1000 companies."
   ]
  },
  {
   "cell_type": "code",
   "execution_count": 59,
   "metadata": {},
   "outputs": [],
   "source": [
    "query = {'founded_month': {'$gte': 6}}\n",
    "\n",
    "select = {'name' : True, 'founded_month' : True, '_id' : False}\n",
    "\n",
    "#list(colec.find(query, select).limit(1000))"
   ]
  },
  {
   "cell_type": "markdown",
   "metadata": {},
   "source": [
    "### 12. All the companies founded before 2000 that have an acquisition amount of more than 10.000.00"
   ]
  },
  {
   "cell_type": "code",
   "execution_count": 63,
   "metadata": {},
   "outputs": [
    {
     "data": {
      "text/plain": [
       "[{'name': 'Postini',\n",
       "  'founded_year': 1999,\n",
       "  'acquisition': {'price_amount': 625000000}},\n",
       " {'name': 'SideStep',\n",
       "  'founded_year': 1999,\n",
       "  'acquisition': {'price_amount': 180000000}},\n",
       " {'name': 'Recipezaar',\n",
       "  'founded_year': 1999,\n",
       "  'acquisition': {'price_amount': 25000000}},\n",
       " {'name': 'PayPal',\n",
       "  'founded_year': 1998,\n",
       "  'acquisition': {'price_amount': 1500000000}},\n",
       " {'name': 'Snapfish',\n",
       "  'founded_year': 1999,\n",
       "  'acquisition': {'price_amount': 300000000}},\n",
       " {'name': 'Neopets',\n",
       "  'founded_year': 1999,\n",
       "  'acquisition': {'price_amount': 160000000}},\n",
       " {'name': 'Sun Microsystems',\n",
       "  'founded_year': 1982,\n",
       "  'acquisition': {'price_amount': 7400000000.0}},\n",
       " {'name': 'Zappos',\n",
       "  'founded_year': 1999,\n",
       "  'acquisition': {'price_amount': 1200000000}},\n",
       " {'name': 'Alibaba',\n",
       "  'founded_year': 1999,\n",
       "  'acquisition': {'price_amount': 1000000000}},\n",
       " {'name': 'Sabre',\n",
       "  'founded_year': 1960,\n",
       "  'acquisition': {'price_amount': 4300000000.0}}]"
      ]
     },
     "execution_count": 63,
     "metadata": {},
     "output_type": "execute_result"
    }
   ],
   "source": [
    "query = {'$and': [{'founded_year': {'$lte': 2000}},\n",
    "                {'acquisition.price_amount': {'$gte': 1e7}}]}\n",
    "\n",
    "select = {'name' : True, 'founded_year' : True, 'acquisition.price_amount' : True, '_id' : False}\n",
    "\n",
    "list(colec.find(query, select).limit(10))"
   ]
  },
  {
   "cell_type": "markdown",
   "metadata": {},
   "source": [
    "### 13. All the companies that have been acquired after 2010, order by the acquisition amount, and retrieve only their `name` and `acquisition` field."
   ]
  },
  {
   "cell_type": "code",
   "execution_count": 67,
   "metadata": {},
   "outputs": [],
   "source": [
    "query = {'$and': [{'acquisition.acquired_year': {'$gte': 2010}}]}\n",
    "\n",
    "select = {'name' : True, 'acquisition' : True, '_id' : False}\n",
    "\n",
    "#list(colec.find(query, select).sort('acquisition', -1).limit(10))"
   ]
  },
  {
   "cell_type": "markdown",
   "metadata": {},
   "source": [
    "### 14. Order the companies by their `founded year`, retrieving only their `name` and `founded year`."
   ]
  },
  {
   "cell_type": "code",
   "execution_count": 69,
   "metadata": {},
   "outputs": [
    {
     "data": {
      "text/plain": [
       "[{'name': 'Fixya', 'founded_year': 2013},\n",
       " {'name': 'Gimigo', 'founded_year': 2013},\n",
       " {'name': 'VistaGen Therapeutics', 'founded_year': 2013},\n",
       " {'name': 'SEOGroup', 'founded_year': 2013},\n",
       " {'name': 'WhosCall', 'founded_year': 2013},\n",
       " {'name': 'Wamba', 'founded_year': 2013},\n",
       " {'name': 'Shopseen', 'founded_year': 2013},\n",
       " {'name': 'Tongxue', 'founded_year': 2013},\n",
       " {'name': 'Advaliant', 'founded_year': 2013},\n",
       " {'name': 'Pikk', 'founded_year': 2013},\n",
       " {'name': 'Fluc', 'founded_year': 2013},\n",
       " {'name': 'Clowdy', 'founded_year': 2013},\n",
       " {'name': 'iBazar', 'founded_year': 2013},\n",
       " {'name': 'Springleap', 'founded_year': 2012},\n",
       " {'name': 'Skydeck', 'founded_year': 2012},\n",
       " {'name': 'Mobiluck', 'founded_year': 2012},\n",
       " {'name': 'headr', 'founded_year': 2012},\n",
       " {'name': 'FoodCare', 'founded_year': 2012},\n",
       " {'name': 'Bling Easy', 'founded_year': 2012},\n",
       " {'name': 'Jumbuck Entertainment', 'founded_year': 2012}]"
      ]
     },
     "execution_count": 69,
     "metadata": {},
     "output_type": "execute_result"
    }
   ],
   "source": [
    "select = {'name' : True, 'founded_year' : True, '_id' : False}\n",
    "\n",
    "list(colec.find({}, select).sort('founded_year', -1).limit(20))"
   ]
  },
  {
   "cell_type": "markdown",
   "metadata": {},
   "source": [
    "### 15. All the companies that have been founded on the first seven days of the month, including the seventh. Sort them by their `acquisition price` in a descending order. Limit the search to 10 documents."
   ]
  },
  {
   "cell_type": "code",
   "execution_count": 72,
   "metadata": {},
   "outputs": [
    {
     "data": {
      "text/plain": [
       "[{'name': 'Netscape',\n",
       "  'founded_day': 4,\n",
       "  'acquisition': {'price_amount': 4200000000.0}},\n",
       " {'name': 'PayPal',\n",
       "  'founded_day': 1,\n",
       "  'acquisition': {'price_amount': 1500000000}},\n",
       " {'name': 'Zappos',\n",
       "  'founded_day': 1,\n",
       "  'acquisition': {'price_amount': 1200000000}},\n",
       " {'name': 'Alibaba',\n",
       "  'founded_day': 1,\n",
       "  'acquisition': {'price_amount': 1000000000}},\n",
       " {'name': 'Postini',\n",
       "  'founded_day': 2,\n",
       "  'acquisition': {'price_amount': 625000000}},\n",
       " {'name': 'Danger',\n",
       "  'founded_day': 1,\n",
       "  'acquisition': {'price_amount': 500000000}},\n",
       " {'name': 'Clearwell Systems',\n",
       "  'founded_day': 6,\n",
       "  'acquisition': {'price_amount': 410000000}},\n",
       " {'name': 'PrimeSense',\n",
       "  'founded_day': 1,\n",
       "  'acquisition': {'price_amount': 345000000}},\n",
       " {'name': 'Amobee',\n",
       "  'founded_day': 1,\n",
       "  'acquisition': {'price_amount': 321000000}},\n",
       " {'name': 'BlueLithium',\n",
       "  'founded_day': 1,\n",
       "  'acquisition': {'price_amount': 300000000}}]"
      ]
     },
     "execution_count": 72,
     "metadata": {},
     "output_type": "execute_result"
    }
   ],
   "source": [
    "query = {'founded_day': {'$lte': 7}}\n",
    "\n",
    "select = {'name' : True, 'founded_day' : True, 'acquisition.price_amount' : True, '_id' : False}\n",
    "\n",
    "list(colec.find(query, select).sort('acquisition.price_amount', -1).limit(10))"
   ]
  },
  {
   "cell_type": "markdown",
   "metadata": {},
   "source": [
    "### 16. All the companies on the 'web' `category` that have more than 4000 employees. Sort them by the amount of employees in ascending order."
   ]
  },
  {
   "cell_type": "code",
   "execution_count": 73,
   "metadata": {},
   "outputs": [
    {
     "data": {
      "text/plain": [
       "[{'name': 'Expedia', 'number_of_employees': 4400, 'founded_day': None},\n",
       " {'name': 'AOL', 'number_of_employees': 8000, 'founded_day': 24},\n",
       " {'name': 'Webkinz', 'number_of_employees': 8657, 'founded_day': 25},\n",
       " {'name': 'Rakuten', 'number_of_employees': 10000, 'founded_day': 7},\n",
       " {'name': 'Los Angeles Times Media Group',\n",
       "  'number_of_employees': 10000,\n",
       "  'founded_day': 4},\n",
       " {'name': 'Groupon', 'number_of_employees': 10000, 'founded_day': 11},\n",
       " {'name': 'Yahoo!', 'number_of_employees': 13600, 'founded_day': 1},\n",
       " {'name': 'eBay', 'number_of_employees': 15000, 'founded_day': 1},\n",
       " {'name': 'Experian', 'number_of_employees': 15500, 'founded_day': None}]"
      ]
     },
     "execution_count": 73,
     "metadata": {},
     "output_type": "execute_result"
    }
   ],
   "source": [
    "query = {'$and': [{'category_code': 'web'},\n",
    "                {'number_of_employees': {'$gte': 4e3}}]}\n",
    "\n",
    "\n",
    "select = {'name' : True, 'founded_day' : True, 'number_of_employees' : True, '_id' : False}\n",
    "\n",
    "list(colec.find(query, select).sort('number_of_employees', 1).limit(10))"
   ]
  },
  {
   "cell_type": "markdown",
   "metadata": {},
   "source": [
    "### 17. All the companies whose acquisition amount is more than 10.000.000, and currency is 'EUR'."
   ]
  },
  {
   "cell_type": "code",
   "execution_count": 77,
   "metadata": {},
   "outputs": [
    {
     "data": {
      "text/plain": [
       "[]"
      ]
     },
     "execution_count": 77,
     "metadata": {},
     "output_type": "execute_result"
    }
   ],
   "source": [
    "query = {'$and': [{'price_currency_code': 'EUR'},\n",
    "                {'acquisition.price_amount': {'$gte': 1e7}}]}\n",
    "\n",
    "select = {'name' : True, 'acquisition.price_amount' : True, 'price_currency_code' : True, '_id' : False}\n",
    "\n",
    "list(colec.find(query, select).limit(10))"
   ]
  },
  {
   "cell_type": "markdown",
   "metadata": {},
   "source": [
    "### 18. All the companies that have been acquired on the first trimester of the year. Limit the search to 10 companies, and retrieve only their `name` and `acquisition` fields."
   ]
  },
  {
   "cell_type": "code",
   "execution_count": 79,
   "metadata": {},
   "outputs": [
    {
     "data": {
      "text/plain": [
       "[{'name': 'Kyte', 'acquisition': {'acquired_month': 1}},\n",
       " {'name': 'NetRatings', 'acquisition': {'acquired_month': 2}},\n",
       " {'name': 'blogTV', 'acquisition': {'acquired_month': 3}},\n",
       " {'name': 'Livestream', 'acquisition': {'acquired_month': 1}},\n",
       " {'name': 'iContact', 'acquisition': {'acquired_month': 2}},\n",
       " {'name': 'Coghead', 'acquisition': {'acquired_month': 2}},\n",
       " {'name': 'Dailymotion', 'acquisition': {'acquired_month': 2}},\n",
       " {'name': 'Netvibes', 'acquisition': {'acquired_month': 2}},\n",
       " {'name': 'Flickr', 'acquisition': {'acquired_month': 3}},\n",
       " {'name': 'BabyCenter', 'acquisition': {'acquired_month': 3}}]"
      ]
     },
     "execution_count": 79,
     "metadata": {},
     "output_type": "execute_result"
    }
   ],
   "source": [
    "query = {'acquisition.acquired_month': {'$lte': 3}}\n",
    "\n",
    "select = {'name' : True, 'acquisition.acquired_month' : True, '_id' : False}\n",
    "\n",
    "list(colec.find(query, select).limit(10))"
   ]
  },
  {
   "cell_type": "markdown",
   "metadata": {},
   "source": [
    "# Bonus\n",
    "### 19. All the companies that have been founded between 2000 and 2010, but have not been acquired before 2011."
   ]
  },
  {
   "cell_type": "code",
   "execution_count": null,
   "metadata": {},
   "outputs": [],
   "source": [
    "# Your Code"
   ]
  },
  {
   "cell_type": "markdown",
   "metadata": {},
   "source": [
    "### 20. All the companies that have been 'deadpooled' after the third year."
   ]
  },
  {
   "cell_type": "code",
   "execution_count": null,
   "metadata": {},
   "outputs": [],
   "source": [
    "# Your Code"
   ]
  }
 ],
 "metadata": {
  "kernelspec": {
   "display_name": "Python 3",
   "language": "python",
   "name": "python3"
  },
  "language_info": {
   "codemirror_mode": {
    "name": "ipython",
    "version": 3
   },
   "file_extension": ".py",
   "mimetype": "text/x-python",
   "name": "python",
   "nbconvert_exporter": "python",
   "pygments_lexer": "ipython3",
   "version": "3.11.2"
  }
 },
 "nbformat": 4,
 "nbformat_minor": 2
}
