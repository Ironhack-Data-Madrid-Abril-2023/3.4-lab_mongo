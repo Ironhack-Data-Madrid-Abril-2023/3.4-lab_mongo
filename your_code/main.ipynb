{
 "cells": [
  {
   "cell_type": "markdown",
   "metadata": {},
   "source": [
    "# Advanced Querying Mongo"
   ]
  },
  {
   "cell_type": "markdown",
   "metadata": {},
   "source": [
    "Importing libraries and setting up connection"
   ]
  },
  {
   "cell_type": "code",
   "execution_count": 69,
   "metadata": {},
   "outputs": [],
   "source": [
    "#pip install pymongo"
   ]
  },
  {
   "cell_type": "code",
   "execution_count": 100,
   "metadata": {},
   "outputs": [],
   "source": [
    "from pymongo import MongoClient\n",
    "import re"
   ]
  },
  {
   "cell_type": "code",
   "execution_count": 71,
   "metadata": {},
   "outputs": [
    {
     "data": {
      "text/plain": [
       "MongoClient(host=['localhost:27017'], document_class=dict, tz_aware=False, connect=True)"
      ]
     },
     "execution_count": 71,
     "metadata": {},
     "output_type": "execute_result"
    }
   ],
   "source": [
    "cursor = MongoClient()\n",
    "cursor"
   ]
  },
  {
   "cell_type": "code",
   "execution_count": 72,
   "metadata": {},
   "outputs": [],
   "source": [
    "str_con='localhost:27017'\n",
    "cursor= MongoClient(str_con)\n",
    "db=cursor.Ironhack"
   ]
  },
  {
   "cell_type": "code",
   "execution_count": 73,
   "metadata": {},
   "outputs": [
    {
     "data": {
      "text/plain": [
       "dict_keys(['_id', 'name', 'permalink', 'crunchbase_url', 'homepage_url', 'blog_url', 'blog_feed_url', 'twitter_username', 'category_code', 'number_of_employees', 'founded_year', 'founded_month', 'founded_day', 'deadpooled_year', 'tag_list', 'alias_list', 'email_address', 'phone_number', 'description', 'created_at', 'updated_at', 'overview', 'image', 'products', 'relationships', 'competitions', 'providerships', 'total_money_raised', 'funding_rounds', 'investments', 'acquisition', 'acquisitions', 'offices', 'milestones', 'video_embeds', 'screenshots', 'external_links', 'partners'])"
      ]
     },
     "execution_count": 73,
     "metadata": {},
     "output_type": "execute_result"
    }
   ],
   "source": [
    "colect=db.CrunchBase\n",
    "res=colect.find().limit(1)\n",
    "list(res)[0].keys()"
   ]
  },
  {
   "cell_type": "markdown",
   "metadata": {},
   "source": [
    "### 1. All the companies whose name match 'Babelgum'. Retrieve only their `name` field."
   ]
  },
  {
   "cell_type": "code",
   "execution_count": 102,
   "metadata": {},
   "outputs": [
    {
     "data": {
      "text/plain": [
       "[{'name': 'Babelgum'}]"
      ]
     },
     "execution_count": 102,
     "metadata": {},
     "output_type": "execute_result"
    }
   ],
   "source": [
    "# Your Code\n",
    "query={'name':'Babelgum'}\n",
    "select={ 'name': 1 , '_id': 0 , 'categoty_code' : 1}\n",
    "list(colect.find(query,select))    "
   ]
  },
  {
   "cell_type": "markdown",
   "metadata": {},
   "source": [
    "### 2. All the companies that have more than 5000 employees. Limit the search to 20 companies and sort them by **number of employees**."
   ]
  },
  {
   "cell_type": "code",
   "execution_count": 103,
   "metadata": {},
   "outputs": [
    {
     "data": {
      "text/plain": [
       "[{'name': 'Nintendo'},\n",
       " {'name': 'Hexaware Technologies'},\n",
       " {'name': 'Facebook'},\n",
       " {'name': 'OpenText'},\n",
       " {'name': 'CPM Braxis'},\n",
       " {'name': 'LSI'},\n",
       " {'name': 'Microchip Technologies'},\n",
       " {'name': 'Mediaset'},\n",
       " {'name': 'Mindray Medical International'},\n",
       " {'name': 'Dentsu'},\n",
       " {'name': 'Atmel'},\n",
       " {'name': 'Tata Communications'},\n",
       " {'name': 'Baidu'},\n",
       " {'name': 'Acxiom'},\n",
       " {'name': 'Acxiom'},\n",
       " {'name': 'SRA International'},\n",
       " {'name': \"Moody's\"},\n",
       " {'name': 'ManTech'},\n",
       " {'name': 'Adobe Systems'},\n",
       " {'name': 'Broadcom'}]"
      ]
     },
     "execution_count": 103,
     "metadata": {},
     "output_type": "execute_result"
    }
   ],
   "source": [
    "# Your Code\n",
    "query={ 'number_of_employees' : {'$gt':5000}}\n",
    "select={ 'name': 1 , '_id': 0}\n",
    "list(colect.find(query,select).limit(20).sort('number_of_employees'))"
   ]
  },
  {
   "cell_type": "markdown",
   "metadata": {},
   "source": [
    "### 3. All the companies founded between 2000 and 2005, both years included. Retrieve only the `name` and `founded_year` fields."
   ]
  },
  {
   "cell_type": "code",
   "execution_count": 198,
   "metadata": {},
   "outputs": [
    {
     "data": {
      "text/plain": [
       "[{'name': 'Omnidrive', 'founded_year': 2005},\n",
       " {'name': 'Wetpaint', 'founded_year': 2005},\n",
       " {'name': 'Zoho', 'founded_year': 2005}]"
      ]
     },
     "execution_count": 198,
     "metadata": {},
     "output_type": "execute_result"
    }
   ],
   "source": [
    "query={'$and':[{'founded_year':{'$gte': 2000 }},{'founded_year' : { '$lte': 2005}}]}\n",
    "select={'name':1 , '_id' :0, 'founded_year':1}\n",
    "list(colect.find(query,select).sort('founded_year',-1).limit(3))"
   ]
  },
  {
   "cell_type": "markdown",
   "metadata": {},
   "source": [
    "### 4. All the companies that had a Valuation Amount of more than 100.000.000 and have been founded before 2010. Retrieve only the `name` and `ipo` fields."
   ]
  },
  {
   "cell_type": "code",
   "execution_count": 99,
   "metadata": {},
   "outputs": [],
   "source": [
    "# Your Code\n",
    "def dinero(x):\n",
    "    res=[]\n",
    "    numero=1\n",
    "    simbol=1\n",
    "    for i in x:\n",
    "        if i[0]=='$': simbol=1.3\n",
    "        elif i[0]=='€': simbol=1.12\n",
    "        if i[-1]=='K': numero=1e3\n",
    "        elif i[-1]=='M': numero=1e6\n",
    "        elif i[-1]=='B': numero=1e9\n",
    "        n_col=re.findall('[0-9.]+', i)[0]\n",
    "    res.append(int(float(n_col)*numero*simbol))\n",
    "    return res\n",
    "        "
   ]
  },
  {
   "cell_type": "markdown",
   "metadata": {},
   "source": [
    "### 5. All the companies that have less than 1000 employees and have been founded before 2005. Order them by the number of employees and limit the search to 10 companies."
   ]
  },
  {
   "cell_type": "code",
   "execution_count": 110,
   "metadata": {},
   "outputs": [
    {
     "data": {
      "text/plain": [
       "[{'name': 'Yodle', 'number_of_employees': 1000, 'founded_year': 2005},\n",
       " {'name': 'JinkoSolar Holding',\n",
       "  'number_of_employees': 1000,\n",
       "  'founded_year': 2006},\n",
       " {'name': 'Brain Bakery', 'number_of_employees': 1000, 'founded_year': 2006},\n",
       " {'name': 'Gumtree', 'number_of_employees': 1000, 'founded_year': 2005},\n",
       " {'name': 'Hello Travel', 'number_of_employees': 1000, 'founded_year': 2008},\n",
       " {'name': 'Yatra online', 'number_of_employees': 1000, 'founded_year': 2006},\n",
       " {'name': 'Box', 'number_of_employees': 950, 'founded_year': 2005},\n",
       " {'name': 'Relax Solutions Pvt Ltd',\n",
       "  'number_of_employees': 900,\n",
       "  'founded_year': 2006},\n",
       " {'name': 'Workday', 'number_of_employees': 900, 'founded_year': 2005},\n",
       " {'name': 'InMobi', 'number_of_employees': 900, 'founded_year': 2007}]"
      ]
     },
     "execution_count": 110,
     "metadata": {},
     "output_type": "execute_result"
    }
   ],
   "source": [
    "# Your Code\n",
    "query={'$and':[{'number_of_employees':{'$lte':1000}},{'founded_year': {'$gte':2005}}]}\n",
    "select={'name':1,'_id':0,'number_of_employees':1,'founded_year':1}\n",
    "list(colect.find(query,select).sort('number_of_employees',-1).limit(10))"
   ]
  },
  {
   "cell_type": "markdown",
   "metadata": {},
   "source": [
    "### 6. All the companies that don't include the `partners` field."
   ]
  },
  {
   "cell_type": "code",
   "execution_count": 124,
   "metadata": {},
   "outputs": [
    {
     "data": {
      "text/plain": [
       "[]"
      ]
     },
     "execution_count": 124,
     "metadata": {},
     "output_type": "execute_result"
    }
   ],
   "source": [
    "# Your Code\n",
    "list(colect.find({'partners': {'$exists': False}}))"
   ]
  },
  {
   "cell_type": "markdown",
   "metadata": {},
   "source": []
  },
  {
   "cell_type": "markdown",
   "metadata": {},
   "source": [
    "### 7. All the companies that have a null type of value on the `category_code` field."
   ]
  },
  {
   "cell_type": "code",
   "execution_count": 197,
   "metadata": {},
   "outputs": [
    {
     "data": {
      "text/plain": [
       "[{'name': 'Collective'}, {'name': 'Snimmer'}, {'name': 'KoolIM'}]"
      ]
     },
     "execution_count": 197,
     "metadata": {},
     "output_type": "execute_result"
    }
   ],
   "source": [
    "# Your Code\n",
    "query={'category_code':None}\n",
    "select={'name':1.,'_id':0}\n",
    "list(colect.find(query,select).limit(3))"
   ]
  },
  {
   "cell_type": "markdown",
   "metadata": {},
   "source": [
    "### 8. All the companies that have at least 100 employees but less than 1000. Retrieve only the `name` and `number of employees` fields."
   ]
  },
  {
   "cell_type": "code",
   "execution_count": 196,
   "metadata": {},
   "outputs": [
    {
     "data": {
      "text/plain": [
       "[{'name': 'AdventNet', 'number_of_employees': 600},\n",
       " {'name': 'AddThis', 'number_of_employees': 120},\n",
       " {'name': 'OpenX', 'number_of_employees': 305}]"
      ]
     },
     "execution_count": 196,
     "metadata": {},
     "output_type": "execute_result"
    }
   ],
   "source": [
    "# Your Code\n",
    "query={'$and':[{'number_of_employees':{'$gte':100}},{'number_of_employees':{'$lte':1000}}]}\n",
    "select={'name':1,'_id':0,'number_of_employees':1}\n",
    "list(colect.find(query,select).limit(3))"
   ]
  },
  {
   "cell_type": "markdown",
   "metadata": {},
   "source": [
    "### 9. Order all the companies by their IPO price in a descending order."
   ]
  },
  {
   "cell_type": "code",
   "execution_count": 83,
   "metadata": {},
   "outputs": [],
   "source": [
    "# Your Code"
   ]
  },
  {
   "cell_type": "markdown",
   "metadata": {},
   "source": [
    "### 10. Retrieve the 10 companies with more employees, order by the `number of employees`"
   ]
  },
  {
   "cell_type": "code",
   "execution_count": 195,
   "metadata": {},
   "outputs": [
    {
     "data": {
      "text/plain": [
       "[{'name': 'Siemens', 'number_of_employees': 405000},\n",
       " {'name': 'IBM', 'number_of_employees': 388000},\n",
       " {'name': 'Toyota', 'number_of_employees': 320000},\n",
       " {'name': 'PayPal', 'number_of_employees': 300000},\n",
       " {'name': 'Nippon Telegraph and Telephone Corporation',\n",
       "  'number_of_employees': 227000},\n",
       " {'name': 'Samsung Electronics', 'number_of_employees': 221726},\n",
       " {'name': 'Accenture', 'number_of_employees': 205000},\n",
       " {'name': 'Tata Consultancy Services', 'number_of_employees': 200300},\n",
       " {'name': 'Flextronics International', 'number_of_employees': 200000},\n",
       " {'name': 'Safeway', 'number_of_employees': 186000}]"
      ]
     },
     "execution_count": 195,
     "metadata": {},
     "output_type": "execute_result"
    }
   ],
   "source": [
    "# Your Code\n",
    "list(colect.find({'number_of_employees':{'$gte':0}},{'name':1,'_id':0,'number_of_employees':1}).sort('number_of_employees',-1).limit(10))"
   ]
  },
  {
   "cell_type": "markdown",
   "metadata": {},
   "source": [
    "### 11. All the companies founded on the second semester of the year. Limit your search to 1000 companies."
   ]
  },
  {
   "cell_type": "code",
   "execution_count": 194,
   "metadata": {},
   "outputs": [
    {
     "data": {
      "text/plain": [
       "[{'name': 'Wesabe', 'founded_month': 12},\n",
       " {'name': 'Thoof', 'founded_month': 12},\n",
       " {'name': 'Kyte', 'founded_month': 12}]"
      ]
     },
     "execution_count": 194,
     "metadata": {},
     "output_type": "execute_result"
    }
   ],
   "source": [
    "# Your Code\n",
    "query={'$and':[{'founded_month': {'$gte':6}},{'founded_month':{'$lte':12}}]}\n",
    "select_n_i={'name':1,'_id':0,'founded_month':1}\n",
    "list(colect.find(query,select_n_i).sort('founded_month',-1).limit(3))"
   ]
  },
  {
   "cell_type": "markdown",
   "metadata": {},
   "source": [
    "### 12. All the companies founded before 2000 that have an acquisition amount of more than 10.000.00"
   ]
  },
  {
   "cell_type": "code",
   "execution_count": 193,
   "metadata": {},
   "outputs": [
    {
     "data": {
      "text/plain": [
       "[{'name': 'SuccessFactors',\n",
       "  'founded_year': 2001,\n",
       "  'acquisition': {'price_amount': 3400000000.0}},\n",
       " {'name': 'Sourcefire',\n",
       "  'founded_year': 2001,\n",
       "  'acquisition': {'price_amount': 2700000000.0}},\n",
       " {'name': 'Skype',\n",
       "  'founded_year': 2003,\n",
       "  'acquisition': {'price_amount': 2600000000.0}}]"
      ]
     },
     "execution_count": 193,
     "metadata": {},
     "output_type": "execute_result"
    }
   ],
   "source": [
    "# Your Code\n",
    "query={'$and':[{'acquisition.price_amount':{\"$gte\":10000000}},{'founded_year':{\"$gte\":2000}}]}\n",
    "select={\"name\":1,\"_id\":0,'acquisition.price_amount':1,'founded_year':1}\n",
    "list(colect.find(query,select).sort('acquisition.price_amount',-1).limit(3))"
   ]
  },
  {
   "cell_type": "markdown",
   "metadata": {},
   "source": [
    "### 13. All the companies that have been acquired after 2010, order by the acquisition amount, and retrieve only their `name` and `acquisition` field."
   ]
  },
  {
   "cell_type": "code",
   "execution_count": 192,
   "metadata": {},
   "outputs": [
    {
     "data": {
      "text/plain": [
       "[{'name': 'T-Mobile',\n",
       "  'acquisition': {'acquiring_company': {'name': 'AT&T', 'permalink': 'at-t'}}},\n",
       " {'name': 'Goodrich Corporation',\n",
       "  'acquisition': {'acquiring_company': {'name': 'United Technologies',\n",
       "    'permalink': 'united-technologies'}}},\n",
       " {'name': 'LSI',\n",
       "  'acquisition': {'acquiring_company': {'name': 'Avago Technologies',\n",
       "    'permalink': 'avago-technologies'}}}]"
      ]
     },
     "execution_count": 192,
     "metadata": {},
     "output_type": "execute_result"
    }
   ],
   "source": [
    "# Your Code\n",
    "query={'acquisition.acquired_year':{'$gte':2010}}\n",
    "select={\"name\":1,\"_id\":0,'acquisition.acquiring_company':1}\n",
    "list(colect.find(query,select).sort('acquisition.price_amount',-1).limit(3))"
   ]
  },
  {
   "cell_type": "markdown",
   "metadata": {},
   "source": [
    "### 14. Order the companies by their `founded year`, retrieving only their `name` and `founded year`."
   ]
  },
  {
   "cell_type": "code",
   "execution_count": 191,
   "metadata": {},
   "outputs": [
    {
     "data": {
      "text/plain": [
       "[{'name': 'Advaliant', 'founded_year': 2013},\n",
       " {'name': 'Wamba', 'founded_year': 2013},\n",
       " {'name': 'Fixya', 'founded_year': 2013}]"
      ]
     },
     "execution_count": 191,
     "metadata": {},
     "output_type": "execute_result"
    }
   ],
   "source": [
    "# Your Code\n",
    "query={'founded_year':{'$ne':None}}\n",
    "select={\"name\":1,\"_id\":0,'founded_year':1}\n",
    "list(colect.find(query,select).sort('founded_year',-1).limit(3))"
   ]
  },
  {
   "cell_type": "markdown",
   "metadata": {},
   "source": [
    "### 15. All the companies that have been founded on the first seven days of the month, including the seventh. Sort them by their `acquisition price` in a descending order. Limit the search to 10 documents."
   ]
  },
  {
   "cell_type": "code",
   "execution_count": 171,
   "metadata": {},
   "outputs": [
    {
     "data": {
      "text/plain": [
       "[{'name': 'Siebel Systems', 'founded_day': 30},\n",
       " {'name': 'Yammer', 'founded_day': 10},\n",
       " {'name': 'Yammer', 'founded_day': 10},\n",
       " {'name': 'ngmoco', 'founded_day': 26},\n",
       " {'name': 'Audible', 'founded_day': 21},\n",
       " {'name': 'Adify', 'founded_day': 8},\n",
       " {'name': 'Zong', 'founded_day': 15},\n",
       " {'name': 'Topsy Labs', 'founded_day': 15},\n",
       " {'name': 'BreakingPoint Systems', 'founded_day': 28},\n",
       " {'name': 'Goodreads', 'founded_day': 15}]"
      ]
     },
     "execution_count": 171,
     "metadata": {},
     "output_type": "execute_result"
    }
   ],
   "source": [
    "# Your Code\n",
    "query={'founded_day':{'$gte':7}}\n",
    "select={\"name\":1,\"_id\":0,'founded_day':1}\n",
    "list(colect.find(query,select).sort('acquisition.price_amount',-1).limit(10))"
   ]
  },
  {
   "cell_type": "markdown",
   "metadata": {},
   "source": [
    "### 16. All the companies on the 'web' `category` that have more than 4000 employees. Sort them by the amount of employees in ascending order."
   ]
  },
  {
   "cell_type": "code",
   "execution_count": 90,
   "metadata": {},
   "outputs": [],
   "source": [
    "# Your Code\n",
    "query={'$and'}\n",
    "select={\"name\":1,\"_id\":0,'acquisition.price_amount':1,'founded_year':1}\n",
    "list(colect.find(query,select))"
   ]
  },
  {
   "cell_type": "code",
   "execution_count": 190,
   "metadata": {},
   "outputs": [
    {
     "data": {
      "text/plain": [
       "[{'name': 'Los Angeles Times Media Group',\n",
       "  'category_code': 'web',\n",
       "  'number_of_employees': 10000},\n",
       " {'name': 'Experian', 'category_code': 'web', 'number_of_employees': 15500},\n",
       " {'name': 'AOL', 'category_code': 'web', 'number_of_employees': 8000}]"
      ]
     },
     "execution_count": 190,
     "metadata": {},
     "output_type": "execute_result"
    }
   ],
   "source": [
    "query={'$and':[{'category_code':'web'},{'number_of_employees':{'$gte':4000}}]}\n",
    "select={\"name\":1,\"_id\":0,'category_code':1,'number_of_employees':1}\n",
    "list(colect.find(query,select).sort('founded_year').limit(3))"
   ]
  },
  {
   "cell_type": "markdown",
   "metadata": {},
   "source": [
    "### 17. All the companies whose acquisition amount is more than 10.000.000, and currency is 'EUR'."
   ]
  },
  {
   "cell_type": "code",
   "execution_count": 189,
   "metadata": {},
   "outputs": [
    {
     "data": {
      "text/plain": [
       "[{'name': 'Apertio', 'acquisition': {'price_amount': 140000000}},\n",
       " {'name': 'Webedia', 'acquisition': {'price_amount': 70000000}}]"
      ]
     },
     "execution_count": 189,
     "metadata": {},
     "output_type": "execute_result"
    }
   ],
   "source": [
    "# Your Code\n",
    "query={'$and':[{'acquisition.price_amount':{'$gte':1e7}},{'acquisition.price_currency_code':'EUR'}]}\n",
    "select={\"name\":1,\"_id\":0,'acquisition.price_amount':1,'price_currency_code':1}\n",
    "list(colect.find(query,select).sort('acquisition.price_amount',-1).limit(2))"
   ]
  },
  {
   "cell_type": "markdown",
   "metadata": {},
   "source": [
    "### 18. All the companies that have been acquired on the first trimester of the year. Limit the search to 10 companies, and retrieve only their `name` and `acquisition` fields."
   ]
  },
  {
   "cell_type": "code",
   "execution_count": 188,
   "metadata": {},
   "outputs": [
    {
     "data": {
      "text/plain": [
       "[{'name': 'Kyte', 'acquisition': {'acquired_month': 1}},\n",
       " {'name': 'NetRatings', 'acquisition': {'acquired_month': 2}},\n",
       " {'name': 'blogTV', 'acquisition': {'acquired_month': 3}},\n",
       " {'name': 'Livestream', 'acquisition': {'acquired_month': 1}},\n",
       " {'name': 'iContact', 'acquisition': {'acquired_month': 2}},\n",
       " {'name': 'Coghead', 'acquisition': {'acquired_month': 2}},\n",
       " {'name': 'Dailymotion', 'acquisition': {'acquired_month': 2}},\n",
       " {'name': 'Netvibes', 'acquisition': {'acquired_month': 2}},\n",
       " {'name': 'Flickr', 'acquisition': {'acquired_month': 3}},\n",
       " {'name': 'BabyCenter', 'acquisition': {'acquired_month': 3}}]"
      ]
     },
     "execution_count": 188,
     "metadata": {},
     "output_type": "execute_result"
    }
   ],
   "source": [
    "# Your Code\n",
    "query={'$and':[{'acquisition.acquired_month':{'$gte':1}},{'acquisition.acquired_month':{'$lte':3}}]}\n",
    "select={\"name\":1,\"_id\":0,'acquisition.acquired_month':1}\n",
    "list(colect.find(query,select).limit(10))"
   ]
  },
  {
   "cell_type": "markdown",
   "metadata": {},
   "source": [
    "# Bonus\n",
    "### 19. All the companies that have been founded between 2000 and 2010, but have not been acquired before 2011."
   ]
  },
  {
   "cell_type": "code",
   "execution_count": 186,
   "metadata": {},
   "outputs": [
    {
     "data": {
      "text/plain": [
       "[{'name': 'Magento', 'founded_year': 2010},\n",
       " {'name': 'Trunkt', 'founded_year': 2009}]"
      ]
     },
     "execution_count": 186,
     "metadata": {},
     "output_type": "execute_result"
    }
   ],
   "source": [
    "# Your Code\n",
    "query={'$and':[{'founded_year':{'$gte':2000}},{'founded_year':{'$lte':2010}},{'acquisition.acquired_year':{'$gte':2011}}]}\n",
    "select={'name':1,'_id':0,'founded_year':1}\n",
    "list(colect.find(query,select).sort('founded_year',-1).limit(2))"
   ]
  },
  {
   "cell_type": "markdown",
   "metadata": {},
   "source": [
    "### 20. All the companies that have been 'deadpooled' after the third year."
   ]
  },
  {
   "cell_type": "code",
   "execution_count": 94,
   "metadata": {},
   "outputs": [],
   "source": []
  },
  {
   "cell_type": "code",
   "execution_count": 203,
   "metadata": {},
   "outputs": [
    {
     "data": {
      "text/plain": [
       "[{'name': 'Omnidrive', 'founded_year': 2005, 'deadpooled_year': 2008},\n",
       " {'name': 'Jangl SMS', 'founded_year': 2005, 'deadpooled_year': 2008},\n",
       " {'name': 'TripHub', 'founded_year': 2005, 'deadpooled_year': 2008},\n",
       " {'name': 'EventVue', 'founded_year': 2007, 'deadpooled_year': 2010}]"
      ]
     },
     "execution_count": 203,
     "metadata": {},
     "output_type": "execute_result"
    }
   ],
   "source": [
    "# Your Code\n",
    "query={\n",
    "    'founded_year': {'$exists': True},\n",
    "    'deadpooled_year': {'$exists': True},\n",
    "    '$expr': {'$eq': [{'$subtract': ['$deadpooled_year', '$founded_year']}, 3]}\n",
    "}\n",
    "select={'name':1,'_id':0,'founded_year':1,'deadpooled_year':1}\n",
    "list(colect.find(query,select).limit(4))\n"
   ]
  },
  {
   "cell_type": "code",
   "execution_count": null,
   "metadata": {},
   "outputs": [],
   "source": []
  }
 ],
 "metadata": {
  "kernelspec": {
   "display_name": "Python 3",
   "language": "python",
   "name": "python3"
  },
  "language_info": {
   "codemirror_mode": {
    "name": "ipython",
    "version": 3
   },
   "file_extension": ".py",
   "mimetype": "text/x-python",
   "name": "python",
   "nbconvert_exporter": "python",
   "pygments_lexer": "ipython3",
   "version": "3.11.3"
  }
 },
 "nbformat": 4,
 "nbformat_minor": 2
}
