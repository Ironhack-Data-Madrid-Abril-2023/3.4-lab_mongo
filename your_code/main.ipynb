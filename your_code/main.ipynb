{
 "cells": [
  {
   "cell_type": "markdown",
   "metadata": {},
   "source": [
    "# Advanced Querying Mongo"
   ]
  },
  {
   "cell_type": "markdown",
   "metadata": {},
   "source": [
    "Importing libraries and setting up connection"
   ]
  },
  {
   "cell_type": "code",
   "execution_count": 1,
   "metadata": {},
   "outputs": [
    {
     "name": "stdout",
     "output_type": "stream",
     "text": [
      "Requirement already satisfied: pymongo in c:\\users\\gamm\\anaconda3\\lib\\site-packages (4.3.3)\n",
      "Requirement already satisfied: dnspython<3.0.0,>=1.16.0 in c:\\users\\gamm\\anaconda3\\lib\\site-packages (from pymongo) (2.3.0)\n",
      "Note: you may need to restart the kernel to use updated packages.\n"
     ]
    }
   ],
   "source": [
    "%pip install pymongo"
   ]
  },
  {
   "cell_type": "code",
   "execution_count": 23,
   "metadata": {},
   "outputs": [],
   "source": [
    "from pymongo import MongoClient\n",
    "import pandas as pd\n"
   ]
  },
  {
   "cell_type": "code",
   "execution_count": 5,
   "metadata": {},
   "outputs": [],
   "source": [
    "#conexión a mongodb\n",
    "cursor = MongoClient()"
   ]
  },
  {
   "cell_type": "code",
   "execution_count": 6,
   "metadata": {},
   "outputs": [
    {
     "data": {
      "text/plain": [
       "MongoClient(host=['localhost:27017'], document_class=dict, tz_aware=False, connect=True)"
      ]
     },
     "execution_count": 6,
     "metadata": {},
     "output_type": "execute_result"
    }
   ],
   "source": [
    "str_conn='mongodb://localhost:27017'\n",
    "\n",
    "cursor=MongoClient(str_conn)\n",
    "\n",
    "cursor"
   ]
  },
  {
   "cell_type": "code",
   "execution_count": 7,
   "metadata": {},
   "outputs": [
    {
     "data": {
      "text/plain": [
       "['admin', 'companies', 'config', 'local']"
      ]
     },
     "execution_count": 7,
     "metadata": {},
     "output_type": "execute_result"
    }
   ],
   "source": [
    "# ver las bases de datos\n",
    "\n",
    "cursor.list_database_names()"
   ]
  },
  {
   "cell_type": "code",
   "execution_count": 21,
   "metadata": {},
   "outputs": [],
   "source": [
    "#conectamos con la base de datos en mongoDB\n",
    "\n",
    "db = cursor.companies\n",
    "colec = db.companies \n"
   ]
  },
  {
   "cell_type": "code",
   "execution_count": 26,
   "metadata": {},
   "outputs": [
    {
     "data": {
      "text/plain": [
       "Collection(Database(MongoClient(host=['localhost:27017'], document_class=dict, tz_aware=False, connect=True), 'companies'), 'companies')"
      ]
     },
     "execution_count": 26,
     "metadata": {},
     "output_type": "execute_result"
    }
   ],
   "source": [
    "colec"
   ]
  },
  {
   "cell_type": "markdown",
   "metadata": {},
   "source": [
    "### 1. All the companies whose name match 'Babelgum'. Retrieve only their `name` field."
   ]
  },
  {
   "cell_type": "code",
   "execution_count": 37,
   "metadata": {},
   "outputs": [
    {
     "data": {
      "text/plain": [
       "[{'name': 'Babelgum'}]"
      ]
     },
     "execution_count": 37,
     "metadata": {},
     "output_type": "execute_result"
    }
   ],
   "source": [
    "query = {\"name\" :\"Babelgum\"}\n",
    "select = {\"_id\" : 0, \"name\" : 1}\n",
    "list(colec.find(query, select))"
   ]
  },
  {
   "cell_type": "markdown",
   "metadata": {},
   "source": [
    "### 2. All the companies that have more than 5000 employees. Limit the search to 20 companies and sort them by **number of employees**."
   ]
  },
  {
   "cell_type": "code",
   "execution_count": 55,
   "metadata": {},
   "outputs": [
    {
     "data": {
      "text/plain": [
       "[{'name': 'Facebook'},\n",
       " {'name': 'eBay'},\n",
       " {'name': 'Cisco'},\n",
       " {'name': 'Yahoo!'},\n",
       " {'name': 'Google'},\n",
       " {'name': 'Intel'},\n",
       " {'name': 'Nintendo'},\n",
       " {'name': 'Adobe Systems'},\n",
       " {'name': 'Sony'},\n",
       " {'name': 'PayPal'},\n",
       " {'name': 'The Walt Disney Company'},\n",
       " {'name': 'AOL'},\n",
       " {'name': 'Webkinz'},\n",
       " {'name': 'Sun Microsystems'},\n",
       " {'name': 'Nokia'},\n",
       " {'name': 'Rakuten'},\n",
       " {'name': 'Microsoft'},\n",
       " {'name': 'Apple'},\n",
       " {'name': 'NetApp'},\n",
       " {'name': 'Motorola Solutions'}]"
      ]
     },
     "execution_count": 55,
     "metadata": {},
     "output_type": "execute_result"
    }
   ],
   "source": [
    "# limito a 10 para que sea más cómodo y sólo selecciono columna name\n",
    "query = {\"number_of_employees\" : {'$gte': 5000}}\n",
    "select= {\"_id\" : 0, \"name\" : 1}\n",
    "\n",
    "list(colec.find(query,select).limit(10))"
   ]
  },
  {
   "cell_type": "markdown",
   "metadata": {},
   "source": [
    "### 3. All the companies founded between 2000 and 2005, both years included. Retrieve only the `name` and `founded_year` fields."
   ]
  },
  {
   "cell_type": "code",
   "execution_count": 59,
   "metadata": {},
   "outputs": [
    {
     "data": {
      "text/plain": [
       "[{'name': 'Wetpaint', 'founded_year': 2005},\n",
       " {'name': 'Zoho', 'founded_year': 2005},\n",
       " {'name': 'Digg', 'founded_year': 2004},\n",
       " {'name': 'Facebook', 'founded_year': 2004},\n",
       " {'name': 'Omnidrive', 'founded_year': 2005},\n",
       " {'name': 'StumbleUpon', 'founded_year': 2002},\n",
       " {'name': 'Gizmoz', 'founded_year': 2003},\n",
       " {'name': 'Helio', 'founded_year': 2005},\n",
       " {'name': 'Plaxo', 'founded_year': 2002},\n",
       " {'name': 'Technorati', 'founded_year': 2002}]"
      ]
     },
     "execution_count": 59,
     "metadata": {},
     "output_type": "execute_result"
    }
   ],
   "source": [
    "# limito a d¡10 y eligo las columnas name y founded year\n",
    "\n",
    "query = {\"$and\" : [{\"founded_year\" : {\"$gte\":2000}}, {\"founded_year\" : {\"$lte\":2005}}]}\n",
    "\n",
    "select = {\"_id\":0, \"name\":1, \"founded_year\":1}\n",
    "\n",
    "list(colec.find(query, select).limit(10))"
   ]
  },
  {
   "cell_type": "markdown",
   "metadata": {},
   "source": [
    "### 4. All the companies that had a Valuation Amount of more than 100.000.000 and have been founded before 2010. Retrieve only the `name` and `ipo` fields."
   ]
  },
  {
   "cell_type": "code",
   "execution_count": 135,
   "metadata": {},
   "outputs": [
    {
     "data": {
      "text/plain": [
       "[{'name': 'Facebook',\n",
       "  'ipo': {'valuation_amount': 104000000000.0,\n",
       "   'valuation_currency_code': 'USD',\n",
       "   'pub_year': 2012,\n",
       "   'pub_month': 5,\n",
       "   'pub_day': 18,\n",
       "   'stock_symbol': 'NASDAQ:FB'}},\n",
       " {'name': 'Twitter',\n",
       "  'ipo': {'valuation_amount': 18100000000.0,\n",
       "   'valuation_currency_code': 'USD',\n",
       "   'pub_year': 2013,\n",
       "   'pub_month': 11,\n",
       "   'pub_day': 7,\n",
       "   'stock_symbol': 'NYSE:TWTR'}},\n",
       " {'name': 'Yelp',\n",
       "  'ipo': {'valuation_amount': 1300000000,\n",
       "   'valuation_currency_code': 'USD',\n",
       "   'pub_year': 2012,\n",
       "   'pub_month': 3,\n",
       "   'pub_day': 2,\n",
       "   'stock_symbol': 'NYSE:YELP'}}]"
      ]
     },
     "execution_count": 135,
     "metadata": {},
     "output_type": "execute_result"
    }
   ],
   "source": [
    "# los rellené con asistencia del chatgpt\n",
    "\n",
    "query = {\"$and\": [{\"ipo.valuation_amount\": {\"$gt\": 100000000}}, {\"founded_year\": {\"$lt\": 2010}}]}\n",
    "select = {\"_id\": 0, \"name\": 1, \"ipo\": 1}\n",
    "list(colec.find(query, select).limit(3))\n",
    "\n"
   ]
  },
  {
   "cell_type": "markdown",
   "metadata": {},
   "source": [
    "### 5. All the companies that have less than 1000 employees and have been founded before 2005. Order them by the number of employees and limit the search to 10 companies."
   ]
  },
  {
   "cell_type": "code",
   "execution_count": 67,
   "metadata": {},
   "outputs": [
    {
     "data": {
      "text/plain": [
       "[{'name': 'Wetpaint', 'number_of_employees': 47, 'founded_year': 2005},\n",
       " {'name': 'AdventNet', 'number_of_employees': 600, 'founded_year': 1996},\n",
       " {'name': 'Digg', 'number_of_employees': 60, 'founded_year': 2004},\n",
       " {'name': 'Fox Interactive Media',\n",
       "  'number_of_employees': 0,\n",
       "  'founded_year': 1979},\n",
       " {'name': 'Plaxo', 'number_of_employees': 50, 'founded_year': 2002},\n",
       " {'name': 'Technorati', 'number_of_employees': 35, 'founded_year': 2002},\n",
       " {'name': 'AddThis', 'number_of_employees': 120, 'founded_year': 2004},\n",
       " {'name': 'Jingle Networks', 'number_of_employees': 35, 'founded_year': 2005},\n",
       " {'name': 'Meetup', 'number_of_employees': 75, 'founded_year': 2002},\n",
       " {'name': 'LifeLock', 'number_of_employees': 644, 'founded_year': 2005}]"
      ]
     },
     "execution_count": 67,
     "metadata": {},
     "output_type": "execute_result"
    }
   ],
   "source": [
    "# Your Code\n",
    "query={\"number_of_employees\":{\"$lte\":1000}, \"founded_year\":{\"$lte\":2005}}\n",
    "select = {\"_id\":0, \"number_of_employees\":1, \"founded_year\":1, \"name\":1}\n",
    "\n",
    "list(colec.find(query, select).limit(10))"
   ]
  },
  {
   "cell_type": "markdown",
   "metadata": {},
   "source": [
    "### 6. All the companies that don't include the `partners` field."
   ]
  },
  {
   "cell_type": "code",
   "execution_count": 120,
   "metadata": {},
   "outputs": [
    {
     "data": {
      "text/plain": [
       "[{'name': 'Wetpaint', 'partners': []},\n",
       " {'name': 'AdventNet', 'partners': []},\n",
       " {'name': 'Zoho', 'partners': []},\n",
       " {'name': 'Digg', 'partners': []},\n",
       " {'name': 'Facebook', 'partners': []},\n",
       " {'name': 'Omnidrive', 'partners': []},\n",
       " {'name': 'Postini', 'partners': []},\n",
       " {'name': 'Geni', 'partners': []},\n",
       " {'name': 'Flektor', 'partners': []},\n",
       " {'name': 'Fox Interactive Media', 'partners': []}]"
      ]
     },
     "execution_count": 120,
     "metadata": {},
     "output_type": "execute_result"
    }
   ],
   "source": [
    "#si exiten valores none en la lista, que de devuelva los 10 primeros valores\n",
    "\n",
    "query = {\"partners\": {\"$exists\": [None]}}\n",
    "select = {\"_id\": 0, \"name\": 1, \"partners\": 1}\n",
    "list(colec.find(query, select).limit(10))\n",
    "\n"
   ]
  },
  {
   "cell_type": "markdown",
   "metadata": {},
   "source": [
    "### 7. All the companies that have a null type of value on the `category_code` field."
   ]
  },
  {
   "cell_type": "code",
   "execution_count": 104,
   "metadata": {},
   "outputs": [
    {
     "data": {
      "text/plain": [
       "[{'name': 'Collective', 'category_code': None},\n",
       " {'name': 'Snimmer', 'category_code': None},\n",
       " {'name': 'KoolIM', 'category_code': None},\n",
       " {'name': 'Level9 Media', 'category_code': None},\n",
       " {'name': 'VidKing', 'category_code': None},\n",
       " {'name': 'Drigg', 'category_code': None},\n",
       " {'name': 'SpaceTime', 'category_code': None},\n",
       " {'name': 'Touch Clarity', 'category_code': None},\n",
       " {'name': 'MMDAYS', 'category_code': None},\n",
       " {'name': 'Inside Group', 'category_code': None}]"
      ]
     },
     "execution_count": 104,
     "metadata": {},
     "output_type": "execute_result"
    }
   ],
   "source": [
    "# con None nos devuelve aquellas que tienen valores nulos\n",
    "\n",
    "query = {\"category_code\": None}\n",
    "select = {\"_id\": 0, \"name\": 1, \"category_code\": 1}\n",
    "\n",
    "list(colec.find(query, select).limit(10))\n"
   ]
  },
  {
   "cell_type": "markdown",
   "metadata": {},
   "source": [
    "### 8. All the companies that have at least 100 employees but less than 1000. Retrieve only the `name` and `number of employees` fields."
   ]
  },
  {
   "cell_type": "code",
   "execution_count": 127,
   "metadata": {},
   "outputs": [
    {
     "data": {
      "text/plain": [
       "[{'name': 'AdventNet', 'number_of_employees': 600},\n",
       " {'name': 'AddThis', 'number_of_employees': 120},\n",
       " {'name': 'OpenX', 'number_of_employees': 305},\n",
       " {'name': 'LifeLock', 'number_of_employees': 644},\n",
       " {'name': 'Jajah', 'number_of_employees': 110},\n",
       " {'name': 'Livestream', 'number_of_employees': 120},\n",
       " {'name': 'Ustream', 'number_of_employees': 250},\n",
       " {'name': 'iContact', 'number_of_employees': 300},\n",
       " {'name': 'Yelp', 'number_of_employees': 800},\n",
       " {'name': 'Dailymotion', 'number_of_employees': 120}]"
      ]
     },
     "execution_count": 127,
     "metadata": {},
     "output_type": "execute_result"
    }
   ],
   "source": [
    "query = {\"number_of_employees\": {\"$gte\": 100, \"$lt\": 1000}}\n",
    "select = {\"_id\": 0, \"name\": 1, \"number_of_employees\": 1}\n",
    "\n",
    "list(colec.find(query, select).limit(10))\n"
   ]
  },
  {
   "cell_type": "markdown",
   "metadata": {},
   "source": [
    "### 9. Order all the companies by their IPO price in a descending order."
   ]
  },
  {
   "cell_type": "code",
   "execution_count": 130,
   "metadata": {},
   "outputs": [
    {
     "data": {
      "text/plain": [
       "[{'name': 'GREE', 'ipo': {'valuation_amount': 108960000000.0}},\n",
       " {'name': 'Facebook', 'ipo': {'valuation_amount': 104000000000.0}},\n",
       " {'name': 'Amazon', 'ipo': {'valuation_amount': 100000000000.0}},\n",
       " {'name': 'Twitter', 'ipo': {'valuation_amount': 18100000000.0}},\n",
       " {'name': 'Groupon', 'ipo': {'valuation_amount': 12800000000.0}},\n",
       " {'name': 'Tencent', 'ipo': {'valuation_amount': 11000000000.0}},\n",
       " {'name': 'Western Digital', 'ipo': {'valuation_amount': 9430000000.0}},\n",
       " {'name': 'LinkedIn', 'ipo': {'valuation_amount': 9310000000.0}},\n",
       " {'name': 'BMC Software', 'ipo': {'valuation_amount': 6000000000.0}},\n",
       " {'name': 'Rackspace', 'ipo': {'valuation_amount': 5440000000.0}}]"
      ]
     },
     "execution_count": 130,
     "metadata": {},
     "output_type": "execute_result"
    }
   ],
   "source": [
    "# Your Code\n",
    "select = {\"_id\": 0, \"name\": 1, \"ipo.valuation_amount\": 1}\n",
    "\n",
    "list(colec.find({}, select).sort(\"ipo.valuation_amount\", -1).limit(10))\n"
   ]
  },
  {
   "cell_type": "markdown",
   "metadata": {},
   "source": [
    "### 10. Retrieve the 10 companies with more employees, order by the `number of employees`"
   ]
  },
  {
   "cell_type": "code",
   "execution_count": 136,
   "metadata": {},
   "outputs": [
    {
     "data": {
      "text/plain": [
       "[{'name': 'Siemens', 'number_of_employees': 405000},\n",
       " {'name': 'IBM', 'number_of_employees': 388000},\n",
       " {'name': 'Toyota', 'number_of_employees': 320000},\n",
       " {'name': 'PayPal', 'number_of_employees': 300000},\n",
       " {'name': 'Nippon Telegraph and Telephone Corporation',\n",
       "  'number_of_employees': 227000},\n",
       " {'name': 'Samsung Electronics', 'number_of_employees': 221726},\n",
       " {'name': 'Accenture', 'number_of_employees': 205000},\n",
       " {'name': 'Tata Consultancy Services', 'number_of_employees': 200300},\n",
       " {'name': 'Flextronics International', 'number_of_employees': 200000},\n",
       " {'name': 'Safeway', 'number_of_employees': 186000}]"
      ]
     },
     "execution_count": 136,
     "metadata": {},
     "output_type": "execute_result"
    }
   ],
   "source": [
    "# Your Code\n",
    "query = {}\n",
    "select = {\"_id\": 0, \"name\": 1, \"number_of_employees\": 1}\n",
    "list(colec.find(query, select).sort(\"number_of_employees\", -1).limit(10))\n",
    "\n"
   ]
  },
  {
   "cell_type": "markdown",
   "metadata": {},
   "source": [
    "### 11. All the companies founded on the second semester of the year. Limit your search to 1000 companies."
   ]
  },
  {
   "cell_type": "code",
   "execution_count": 142,
   "metadata": {},
   "outputs": [
    {
     "data": {
      "text/plain": [
       "[{'name': 'Wetpaint', 'founded_month': 10},\n",
       " {'name': 'Zoho', 'founded_month': 9},\n",
       " {'name': 'Digg', 'founded_month': 10},\n",
       " {'name': 'Omnidrive', 'founded_month': 11},\n",
       " {'name': 'eBay', 'founded_month': 9},\n",
       " {'name': 'Joost', 'founded_month': 10},\n",
       " {'name': 'Plaxo', 'founded_month': 11},\n",
       " {'name': 'Powerset', 'founded_month': 10},\n",
       " {'name': 'Kyte', 'founded_month': 12},\n",
       " {'name': 'Thoof', 'founded_month': 12}]"
      ]
     },
     "execution_count": 142,
     "metadata": {},
     "output_type": "execute_result"
    }
   ],
   "source": [
    "query = {\"founded_month\": {\"$gt\": 6, \"$lte\": 12}}\n",
    "select = {\"_id\": 0, \"name\": 1, \"founded_month\": 1}\n",
    "list(colec.find(query, select).limit(10))\n"
   ]
  },
  {
   "cell_type": "markdown",
   "metadata": {},
   "source": [
    "### 12. All the companies founded before 2000 that have an acquisition amount of more than 10.000.00"
   ]
  },
  {
   "cell_type": "code",
   "execution_count": 147,
   "metadata": {},
   "outputs": [
    {
     "data": {
      "text/plain": [
       "[{'name': 'Postini',\n",
       "  'founded_year': 1999,\n",
       "  'acquisition': {'price_amount': 625000000}},\n",
       " {'name': 'SideStep',\n",
       "  'founded_year': 1999,\n",
       "  'acquisition': {'price_amount': 180000000}},\n",
       " {'name': 'Recipezaar',\n",
       "  'founded_year': 1999,\n",
       "  'acquisition': {'price_amount': 25000000}},\n",
       " {'name': 'PayPal',\n",
       "  'founded_year': 1998,\n",
       "  'acquisition': {'price_amount': 1500000000}},\n",
       " {'name': 'Snapfish',\n",
       "  'founded_year': 1999,\n",
       "  'acquisition': {'price_amount': 300000000}}]"
      ]
     },
     "execution_count": 147,
     "metadata": {},
     "output_type": "execute_result"
    }
   ],
   "source": [
    "query = {\"founded_year\": {\"$lt\": 2000}, \"acquisition.price_amount\": {\"$gt\": 10000000}}\n",
    "select = {\"_id\": 0, \"name\": 1, \"founded_year\": 1, \"acquisition.price_amount\": 1}\n",
    "\n",
    "list(colec.find(query, select).limit(5))\n"
   ]
  },
  {
   "cell_type": "markdown",
   "metadata": {},
   "source": [
    "### 13. All the companies that have been acquired after 2010, order by the acquisition amount, and retrieve only their `name` and `acquisition` field."
   ]
  },
  {
   "cell_type": "code",
   "execution_count": 154,
   "metadata": {},
   "outputs": [
    {
     "data": {
      "text/plain": [
       "[{'name': 'Alverix',\n",
       "  'acquisition': {'price_amount': 40000000,\n",
       "   'price_currency_code': 'USD',\n",
       "   'term_code': 'cash',\n",
       "   'source_url': 'http://ir.safeguard.com/investor-relations/press-releases/press-release-details/2014/Safeguard-Scientifics-Partner-Company-Alverix-Acquired-by-BD/default.aspx',\n",
       "   'source_description': 'Safeguard Scientifics Partner Company Alverix Acquired by BD',\n",
       "   'acquired_year': 2014,\n",
       "   'acquired_month': 1,\n",
       "   'acquired_day': 7,\n",
       "   'acquiring_company': {'name': 'Becton Dickinson',\n",
       "    'permalink': 'becton-dickinson'}}},\n",
       " {'name': 'Nullsoft',\n",
       "  'acquisition': {'price_amount': None,\n",
       "   'price_currency_code': 'USD',\n",
       "   'term_code': None,\n",
       "   'source_url': 'http://techcrunch.com/2014/01/01/aol-sells-winamp-and-shoutcast-music-services-to-online-radio-aggregator-radionomy/',\n",
       "   'source_description': 'AOL Sells Winamp And Shoutcast Music Services To Online Radio Aggregator Radionomy',\n",
       "   'acquired_year': 2014,\n",
       "   'acquired_month': 1,\n",
       "   'acquired_day': None,\n",
       "   'acquiring_company': {'name': 'Radionomy', 'permalink': 'radionomy'}}},\n",
       " {'name': 'Sense Networks',\n",
       "  'acquisition': {'price_amount': None,\n",
       "   'price_currency_code': 'USD',\n",
       "   'term_code': None,\n",
       "   'source_url': 'http://techcrunch.com/2014/01/06/yp-acquires-sense-networks/',\n",
       "   'source_description': 'In Its First Acquisition, YP Buys Mobile Ad Company Sense Networks',\n",
       "   'acquired_year': 2014,\n",
       "   'acquired_month': 1,\n",
       "   'acquired_day': 6,\n",
       "   'acquiring_company': {'name': 'YP', 'permalink': 'yp-2'}}}]"
      ]
     },
     "execution_count": 154,
     "metadata": {},
     "output_type": "execute_result"
    }
   ],
   "source": [
    "query = {\"acquisition.acquired_year\": {\"$gt\": 2010}}\n",
    "select = {\"_id\": 0, \"name\": 1, \"acquisition\": 1}\n",
    "\n",
    "list(colec.find(query, select).sort(\"acquisition.acquired_year\", -1).limit(3))\n"
   ]
  },
  {
   "cell_type": "markdown",
   "metadata": {},
   "source": [
    "### 14. Order the companies by their `founded year`, retrieving only their `name` and `founded year`."
   ]
  },
  {
   "cell_type": "code",
   "execution_count": 158,
   "metadata": {},
   "outputs": [
    {
     "data": {
      "text/plain": [
       "[{'name': 'Wamba', 'founded_year': 2013},\n",
       " {'name': 'Gimigo', 'founded_year': 2013},\n",
       " {'name': 'Clowdy', 'founded_year': 2013},\n",
       " {'name': 'Fixya', 'founded_year': 2013},\n",
       " {'name': 'Fluc', 'founded_year': 2013},\n",
       " {'name': 'SEOGroup', 'founded_year': 2013},\n",
       " {'name': 'Pikk', 'founded_year': 2013},\n",
       " {'name': 'WhosCall', 'founded_year': 2013},\n",
       " {'name': 'iBazar', 'founded_year': 2013},\n",
       " {'name': 'Advaliant', 'founded_year': 2013}]"
      ]
     },
     "execution_count": 158,
     "metadata": {},
     "output_type": "execute_result"
    }
   ],
   "source": [
    "select = {\"_id\": 0, \"name\": 1, \"founded_year\":1}\n",
    "query = {}\n",
    "list(colec.find(query, select).sort(\"founded_year\", -1).limit(10))"
   ]
  },
  {
   "cell_type": "markdown",
   "metadata": {},
   "source": [
    "### 15. All the companies that have been founded on the first seven days of the month, including the seventh. Sort them by their `acquisition price` in a descending order. Limit the search to 10 documents."
   ]
  },
  {
   "cell_type": "code",
   "execution_count": 163,
   "metadata": {},
   "outputs": [
    {
     "data": {
      "text/plain": [
       "[{'name': 'Netscape',\n",
       "  'founded_day': 4,\n",
       "  'acquisition': {'price_amount': 4200000000.0}},\n",
       " {'name': 'PayPal',\n",
       "  'founded_day': 1,\n",
       "  'acquisition': {'price_amount': 1500000000}},\n",
       " {'name': 'Zappos',\n",
       "  'founded_day': 1,\n",
       "  'acquisition': {'price_amount': 1200000000}},\n",
       " {'name': 'Alibaba',\n",
       "  'founded_day': 1,\n",
       "  'acquisition': {'price_amount': 1000000000}},\n",
       " {'name': 'Postini',\n",
       "  'founded_day': 2,\n",
       "  'acquisition': {'price_amount': 625000000}}]"
      ]
     },
     "execution_count": 163,
     "metadata": {},
     "output_type": "execute_result"
    }
   ],
   "source": [
    "query = {\"founded_day\": {\"$lte\": 7}}\n",
    "select = {\"_id\": 0, \"name\": 1, \"founded_day\": 1, \"acquisition.price_amount\": 1}\n",
    "list(colec.find(query, select).sort(\"acquisition.price_amount\", -1).limit(5))\n"
   ]
  },
  {
   "cell_type": "markdown",
   "metadata": {},
   "source": [
    "### 16. All the companies on the 'web' `category` that have more than 4000 employees. Sort them by the amount of employees in ascending order."
   ]
  },
  {
   "cell_type": "code",
   "execution_count": 170,
   "metadata": {},
   "outputs": [
    {
     "data": {
      "text/plain": [
       "[{'homepage_url': 'http://www.rfmd.com', 'number_of_employees': 4095},\n",
       " {'homepage_url': 'http://www.novell.com', 'number_of_employees': 4100},\n",
       " {'homepage_url': 'http://www.trendmicro.com', 'number_of_employees': 4239},\n",
       " {'homepage_url': 'http://www.nykredit.com', 'number_of_employees': 4296},\n",
       " {'homepage_url': 'http://www.expedia.com', 'number_of_employees': 4400},\n",
       " {'homepage_url': 'http://www.sabretravelnetwork.com',\n",
       "  'number_of_employees': 4500},\n",
       " {'homepage_url': 'http://www.nrgenergy.com', 'number_of_employees': 4607},\n",
       " {'homepage_url': 'http://www.gottschalks.com', 'number_of_employees': 4800},\n",
       " {'homepage_url': 'http://linkedin.com', 'number_of_employees': 4800},\n",
       " {'homepage_url': 'http://www.kla-tencor.com', 'number_of_employees': 4900}]"
      ]
     },
     "execution_count": 170,
     "metadata": {},
     "output_type": "execute_result"
    }
   ],
   "source": [
    "query = {\"number_of_employees\":{\"$gt\":4000}}\n",
    "select_fields = {\"_id\":0, \"number_of_employees\":1, \"homepage_url\":1}\n",
    "\n",
    "list(colec.find(query, select_fields).sort(\"number_of_employees\", 1).limit(10))"
   ]
  },
  {
   "cell_type": "markdown",
   "metadata": {},
   "source": [
    "### 17. All the companies whose acquisition amount is more than 10.000.000, and currency is 'EUR'."
   ]
  },
  {
   "cell_type": "code",
   "execution_count": 174,
   "metadata": {},
   "outputs": [
    {
     "data": {
      "text/plain": [
       "[{'name': 'ZYB',\n",
       "  'acquisition': {'price_amount': 31500000,\n",
       "   'price_currency_code': 'EUR',\n",
       "   'term_code': 'cash',\n",
       "   'source_url': 'http://www.techcrunch.com/2008/05/16/danish-mobile-social-network-zyb-acquired-by-vodafone-for-e315-million/',\n",
       "   'source_description': 'Danish Network ZYB Acquired By Vodafone For â‚¬31.5 million',\n",
       "   'acquired_year': 2008,\n",
       "   'acquired_month': 5,\n",
       "   'acquired_day': 16,\n",
       "   'acquiring_company': {'name': 'Vodafone', 'permalink': 'vodafone'}}},\n",
       " {'name': 'Apertio',\n",
       "  'acquisition': {'price_amount': 140000000,\n",
       "   'price_currency_code': 'EUR',\n",
       "   'term_code': None,\n",
       "   'source_url': 'http://www.techcrunch.com/2008/01/03/nokia-siemens-acquires-apertio-for-e140m/',\n",
       "   'source_description': 'Nokia Siemens Acquires Apertio For â‚¬140m',\n",
       "   'acquired_year': 2008,\n",
       "   'acquired_month': 1,\n",
       "   'acquired_day': 3,\n",
       "   'acquiring_company': {'name': 'Nokia Siemens Networks',\n",
       "    'permalink': 'nokia-siemens-networks'}}},\n",
       " {'name': 'Greenfield Online',\n",
       "  'acquisition': {'price_amount': 40000000,\n",
       "   'price_currency_code': 'EUR',\n",
       "   'term_code': None,\n",
       "   'source_url': 'http://www.research-live.com/news/m-and-a/toluna-buys-greenfield-online-survey-business-for-$40m/4000346.article',\n",
       "   'source_description': 'Toluna buys Greenfield Online survey business for $40m',\n",
       "   'acquired_year': 2009,\n",
       "   'acquired_month': 6,\n",
       "   'acquired_day': 26,\n",
       "   'acquiring_company': {'name': 'Toluna', 'permalink': 'toluna'}}},\n",
       " {'name': 'Webedia',\n",
       "  'acquisition': {'price_amount': 70000000,\n",
       "   'price_currency_code': 'EUR',\n",
       "   'term_code': None,\n",
       "   'source_url': 'http://www.clipperton.net/transactions/webedia/',\n",
       "   'source_description': 'Webedia, one of the leading digital media groups in France, is acquired by Fimalac Group in a €70m+ transaction.',\n",
       "   'acquired_year': 2013,\n",
       "   'acquired_month': 9,\n",
       "   'acquired_day': 12,\n",
       "   'acquiring_company': {'name': 'Fimalac Group',\n",
       "    'permalink': 'fimalac-group'}}},\n",
       " {'name': 'Wayfinder',\n",
       "  'acquisition': {'price_amount': 24000000,\n",
       "   'price_currency_code': 'EUR',\n",
       "   'term_code': None,\n",
       "   'source_url': 'http://www.techcrunch.com/2008/12/08/vodafone-acquires-swedens-wayfinder-for-e24-million/',\n",
       "   'source_description': \"Vodafone Acquires Sweden's WayFinder For â‚¬24 Million\",\n",
       "   'acquired_year': 2008,\n",
       "   'acquired_month': 12,\n",
       "   'acquired_day': 8,\n",
       "   'acquiring_company': {'name': 'Vodafone', 'permalink': 'vodafone'}}},\n",
       " {'name': 'Tuenti Technologies',\n",
       "  'acquisition': {'price_amount': 70000000,\n",
       "   'price_currency_code': 'EUR',\n",
       "   'term_code': 'cash',\n",
       "   'source_url': 'http://financial.tmcnet.com/mergers-acquisitions/news/2010/08/05/4940696.htm',\n",
       "   'source_description': \"'Telefonica confirms Tuenti stake acquisition'\",\n",
       "   'acquired_year': 1974,\n",
       "   'acquired_month': 7,\n",
       "   'acquired_day': 7,\n",
       "   'acquiring_company': {'name': 'Telefonica', 'permalink': 'telefonica'}}},\n",
       " {'name': 'BioMed Central',\n",
       "  'acquisition': {'price_amount': 43400000,\n",
       "   'price_currency_code': 'EUR',\n",
       "   'term_code': None,\n",
       "   'source_url': 'http://www.springer-sbm.com/index.php?id=291&backPID=131&L=0&tx_tnc_news=4970&cHash=56b1d882b2',\n",
       "   'source_description': 'Springer to acquire BioMed Central Group ',\n",
       "   'acquired_year': 2008,\n",
       "   'acquired_month': 10,\n",
       "   'acquired_day': 6,\n",
       "   'acquiring_company': {'name': 'Springer', 'permalink': 'springer'}}}]"
      ]
     },
     "execution_count": 174,
     "metadata": {},
     "output_type": "execute_result"
    }
   ],
   "source": [
    "query = {\"acquisition.price_amount\": {\"$gt\": 10000000}, \"acquisition.price_currency_code\": \"EUR\"}\n",
    "select = {\"_id\": 0, \"name\": 1, \"acquisition\": 1}\n",
    "\n",
    "list(colec.find(query, select))\n"
   ]
  },
  {
   "cell_type": "markdown",
   "metadata": {},
   "source": [
    "### 18. All the companies that have been acquired on the first trimester of the year. Limit the search to 10 companies, and retrieve only their `name` and `acquisition` fields."
   ]
  },
  {
   "cell_type": "code",
   "execution_count": 176,
   "metadata": {},
   "outputs": [
    {
     "data": {
      "text/plain": [
       "[{'name': 'Kyte',\n",
       "  'acquisition': {'price_amount': None,\n",
       "   'price_currency_code': 'USD',\n",
       "   'term_code': None,\n",
       "   'source_url': 'http://techcrunch.com/2011/01/31/exclusive-kit-digital-acquires-kickapps-kewego-and-kyte-for-77-2-million/',\n",
       "   'source_description': 'KIT digital Acquires KickApps, Kewego AND Kyte For $77.2 Million',\n",
       "   'acquired_year': 2011,\n",
       "   'acquired_month': 1,\n",
       "   'acquired_day': 31,\n",
       "   'acquiring_company': {'name': 'KIT digital', 'permalink': 'kit-digital'}}},\n",
       " {'name': 'NetRatings',\n",
       "  'acquisition': {'price_amount': 327000000,\n",
       "   'price_currency_code': 'USD',\n",
       "   'term_code': 'cash',\n",
       "   'source_url': 'http://login.vnuemedia.com/hr/login/login_subscribe.jsp?id=0oqDem1gYIfIclz9i2%2Ffqj5NxCp2AC5DPbVnyT2da8GyV2mXjasabE128n69OrmcAh52%2FGE3pSG%2F%0AEKRYD9vh9EhrJrxukmUzh532fSMTZXL42gwPB80UWVtF1NwJ5UZSM%2BCkLU1mpYBoHFgiH%2Fi0f6Ax%0A9yMIVxt47t%2BHamhEQ0nkOEK24L',\n",
       "   'source_description': 'Nielsen buys rest of NetRatings',\n",
       "   'acquired_year': 2007,\n",
       "   'acquired_month': 2,\n",
       "   'acquired_day': None,\n",
       "   'acquiring_company': {'name': 'Nielsen', 'permalink': 'nielsen'}}},\n",
       " {'name': 'blogTV',\n",
       "  'acquisition': {'price_amount': None,\n",
       "   'price_currency_code': 'USD',\n",
       "   'term_code': None,\n",
       "   'source_url': 'http://techcrunch.com/2013/03/13/younow-buys-blogtv/',\n",
       "   'source_description': 'Live Social Video Network YouNow Acquires Streaming Service BlogTV',\n",
       "   'acquired_year': 2013,\n",
       "   'acquired_month': 3,\n",
       "   'acquired_day': 13,\n",
       "   'acquiring_company': {'name': 'YouNow', 'permalink': 'younow'}}}]"
      ]
     },
     "execution_count": 176,
     "metadata": {},
     "output_type": "execute_result"
    }
   ],
   "source": [
    "query = {\"acquisition.acquired_month\": {\"$lte\": 3}}\n",
    "select = {\"_id\": 0, \"name\": 1, \"acquisition\": 1}\n",
    "list(colec.find(query, select).limit(3))\n"
   ]
  },
  {
   "cell_type": "markdown",
   "metadata": {},
   "source": [
    "# Bonus\n",
    "### 19. All the companies that have been founded between 2000 and 2010, but have not been acquired before 2011."
   ]
  },
  {
   "cell_type": "code",
   "execution_count": 178,
   "metadata": {},
   "outputs": [
    {
     "data": {
      "text/plain": [
       "[{'name': 'Wetpaint',\n",
       "  'founded_year': 2005,\n",
       "  'acquisition': {'price_amount': 30000000,\n",
       "   'price_currency_code': 'USD',\n",
       "   'term_code': 'cash_and_stock',\n",
       "   'source_url': 'http://allthingsd.com/20131216/viggle-tries-to-bulk-up-its-social-tv-business-by-buying-wetpaint/?mod=atdtweet',\n",
       "   'source_description': ' Viggle Tries to Bulk Up Its Social TV Business by Buying Wetpaint',\n",
       "   'acquired_year': 2013,\n",
       "   'acquired_month': 12,\n",
       "   'acquired_day': 16,\n",
       "   'acquiring_company': {'name': 'Viggle', 'permalink': 'viggle'}}},\n",
       " {'name': 'Zoho', 'founded_year': 2005, 'acquisition': None},\n",
       " {'name': 'Digg',\n",
       "  'founded_year': 2004,\n",
       "  'acquisition': {'price_amount': 500000,\n",
       "   'price_currency_code': 'USD',\n",
       "   'term_code': None,\n",
       "   'source_url': 'http://techcrunch.com/2012/07/12/betaworks-acquires-digg/',\n",
       "   'source_description': 'Betaworks Acquires Digg (TechCrunch)',\n",
       "   'acquired_year': 2012,\n",
       "   'acquired_month': 7,\n",
       "   'acquired_day': 12,\n",
       "   'acquiring_company': {'name': 'betaworks', 'permalink': 'betaworks'}}}]"
      ]
     },
     "execution_count": 178,
     "metadata": {},
     "output_type": "execute_result"
    }
   ],
   "source": [
    "query = {\"$and\": [\n",
    "            {\"founded_year\": {\"$gte\": 2000, \"$lte\": 2010}},\n",
    "            {\"acquisition.acquired_year\": {\"$not\": {\"$lt\": 2011}}}\n",
    "        ]}\n",
    "select = {\"_id\": 0, \"name\": 1, \"founded_year\": 1, \"acquisition\": 1}\n",
    "\n",
    "list(colec.find(query, select).limit(3))\n"
   ]
  },
  {
   "cell_type": "markdown",
   "metadata": {},
   "source": [
    "### 20. All the companies that have been 'deadpooled' after the third year."
   ]
  },
  {
   "cell_type": "code",
   "execution_count": 187,
   "metadata": {},
   "outputs": [
    {
     "data": {
      "text/plain": [
       "[]"
      ]
     },
     "execution_count": 187,
     "metadata": {},
     "output_type": "execute_result"
    }
   ],
   "source": [
    "\n",
    "#no supe como hacerlo\n",
    "\n",
    "query = {\"deadpooled_year\": {\"$gt\": {\"$add\": [\"$founded_year\", 3]}}}\n",
    "select = {\"_id\": 0, \"name\": 1, \"founded_year\": 1, \"deadpooled_year\": 1}\n",
    "\n",
    "list(colec.find(query, select))\n"
   ]
  }
 ],
 "metadata": {
  "kernelspec": {
   "display_name": "Python 3",
   "language": "python",
   "name": "python3"
  },
  "language_info": {
   "codemirror_mode": {
    "name": "ipython",
    "version": 3
   },
   "file_extension": ".py",
   "mimetype": "text/x-python",
   "name": "python",
   "nbconvert_exporter": "python",
   "pygments_lexer": "ipython3",
   "version": "3.9.13"
  }
 },
 "nbformat": 4,
 "nbformat_minor": 2
}
