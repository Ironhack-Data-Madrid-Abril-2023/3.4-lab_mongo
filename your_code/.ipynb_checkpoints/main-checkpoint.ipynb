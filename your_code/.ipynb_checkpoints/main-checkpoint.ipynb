{
 "cells": [
  {
   "cell_type": "markdown",
   "metadata": {},
   "source": [
    "# Advanced Querying Mongo"
   ]
  },
  {
   "cell_type": "markdown",
   "metadata": {},
   "source": [
    "Importing libraries and setting up connection"
   ]
  },
  {
   "cell_type": "code",
   "execution_count": 2,
   "metadata": {},
   "outputs": [],
   "source": [
    "#%pip install pymongo             # Instalo la biblioteca pymongo en python para poder acceder a las bases de datos de MONGODB\n",
    "from pymongo import MongoClient  # Desde pymongo importo la bilbioteca que me interesa para interactuar, MongoClient\n",
    "cursor = MongoClient(\"mongodb://localhost:27017\")         # Le asigno al objeto client la base de datos MongoClient"
   ]
  },
  {
   "cell_type": "code",
   "execution_count": null,
   "metadata": {},
   "outputs": [],
   "source": []
  },
  {
   "cell_type": "markdown",
   "metadata": {},
   "source": [
    "### 1. All the companies whose name match 'Babelgum'. Retrieve only their `name` field."
   ]
  },
  {
   "cell_type": "code",
   "execution_count": 3,
   "metadata": {},
   "outputs": [
    {
     "data": {
      "text/plain": [
       "['admin', 'companies', 'config', 'local']"
      ]
     },
     "execution_count": 3,
     "metadata": {},
     "output_type": "execute_result"
    }
   ],
   "source": [
    "cursor.list_database_names()"
   ]
  },
  {
   "cell_type": "code",
   "execution_count": 4,
   "metadata": {},
   "outputs": [],
   "source": [
    "db = cursor.companies.companies\n"
   ]
  },
  {
   "cell_type": "code",
   "execution_count": 5,
   "metadata": {},
   "outputs": [
    {
     "data": {
      "text/plain": [
       "[{'name': 'Babelgum'}]"
      ]
     },
     "execution_count": 5,
     "metadata": {},
     "output_type": "execute_result"
    }
   ],
   "source": [
    "query1= {'name': 'Babelgum'}\n",
    "filtro= {'name': True, '_id': False}\n",
    "list(db.find(query1, filtro))"
   ]
  },
  {
   "cell_type": "markdown",
   "metadata": {},
   "source": [
    "### 2. All the companies that have more than 5000 employees. Limit the search to 20 companies and sort them by **number of employees**."
   ]
  },
  {
   "cell_type": "code",
   "execution_count": 6,
   "metadata": {},
   "outputs": [
    {
     "data": {
      "text/plain": [
       "[{'name': 'Facebook', 'number_of_employees': 5299},\n",
       " {'name': 'eBay', 'number_of_employees': 15000},\n",
       " {'name': 'Cisco', 'number_of_employees': 63000},\n",
       " {'name': 'Yahoo!', 'number_of_employees': 13600},\n",
       " {'name': 'Google', 'number_of_employees': 28000}]"
      ]
     },
     "execution_count": 6,
     "metadata": {},
     "output_type": "execute_result"
    }
   ],
   "source": [
    "query2= {'number_of_employees': {'$gt': 5000}}\n",
    "filtro2= {'number_of_employees': True, 'name': True, '_id': False}\n",
    "list(db.find(query2, filtro2).limit(5))               #never scroll, always short limit"
   ]
  },
  {
   "cell_type": "markdown",
   "metadata": {},
   "source": [
    "### 3. All the companies founded between 2000 and 2005, both years included. Retrieve only the `name` and `founded_year` fields."
   ]
  },
  {
   "cell_type": "code",
   "execution_count": 7,
   "metadata": {},
   "outputs": [
    {
     "data": {
      "text/plain": [
       "[{'name': 'Digg', 'founded_year': 2004},\n",
       " {'name': 'Facebook', 'founded_year': 2004},\n",
       " {'name': 'StumbleUpon', 'founded_year': 2002},\n",
       " {'name': 'Gizmoz', 'founded_year': 2003},\n",
       " {'name': 'Plaxo', 'founded_year': 2002}]"
      ]
     },
     "execution_count": 7,
     "metadata": {},
     "output_type": "execute_result"
    }
   ],
   "source": [
    "query3= {'$and': [{'founded_year':{'$lt': 2005}},\n",
    "                  {'founded_year':{'$gt': 2000}}]}\n",
    "filtro3= {'name': True, 'founded_year': True, '_id': False}\n",
    "list(db.find(query3, filtro3).limit(5))"
   ]
  },
  {
   "cell_type": "markdown",
   "metadata": {},
   "source": [
    "### 4. All the companies that had a Valuation Amount of more than 100.000.000 and have been founded before 2010. Retrieve only the `name` and `ipo` fields."
   ]
  },
  {
   "cell_type": "code",
   "execution_count": 8,
   "metadata": {},
   "outputs": [
    {
     "data": {
      "text/plain": [
       "[]"
      ]
     },
     "execution_count": 8,
     "metadata": {},
     "output_type": "execute_result"
    }
   ],
   "source": [
    "\n",
    "\n",
    "query4= {'$and': [{'founded_year':{'$lt': 2010}},\n",
    "                  {'valuation_amount':{'$gt': 100000000}}]}\n",
    "filtro4= {'name': True, 'valuation_amount': True, '_id': False}\n",
    "list(db.find(query4, filtro4).limit(5))"
   ]
  },
  {
   "cell_type": "markdown",
   "metadata": {},
   "source": [
    "### 5. All the companies that have less than 1000 employees and have been founded before 2005. Order them by the number of employees and limit the search to 10 companies."
   ]
  },
  {
   "cell_type": "code",
   "execution_count": 11,
   "metadata": {},
   "outputs": [
    {
     "data": {
      "text/plain": [
       "[{'name': 'Infinera Corporation',\n",
       "  'number_of_employees': 974,\n",
       "  'founded_year': 2000},\n",
       " {'name': 'NorthPoint Communications Group',\n",
       "  'number_of_employees': 948,\n",
       "  'founded_year': 1997},\n",
       " {'name': '888 Holdings', 'number_of_employees': 931, 'founded_year': 1997},\n",
       " {'name': 'Forrester Research',\n",
       "  'number_of_employees': 903,\n",
       "  'founded_year': 1983},\n",
       " {'name': 'SonicWALL', 'number_of_employees': 900, 'founded_year': 1991},\n",
       " {'name': 'Webmetrics', 'number_of_employees': 900, 'founded_year': 1999},\n",
       " {'name': 'Cornerstone OnDemand',\n",
       "  'number_of_employees': 881,\n",
       "  'founded_year': 1999},\n",
       " {'name': 'Mozilla', 'number_of_employees': 800, 'founded_year': 1998},\n",
       " {'name': 'Buongiorno', 'number_of_employees': 800, 'founded_year': 1999},\n",
       " {'name': 'Yelp', 'number_of_employees': 800, 'founded_year': 2004}]"
      ]
     },
     "execution_count": 11,
     "metadata": {},
     "output_type": "execute_result"
    }
   ],
   "source": [
    "query5= {'$and': [{'number_of_employees':{'$lt': 1000}},\n",
    "                  {'founded_year':{'$lt': 2005}}]}\n",
    "filtro5= {'name': True, 'founded_year': True, 'number_of_employees': True, '_id': False}\n",
    "list(db.find(query5, filtro5).sort('number_of_employees', -1).limit(10))\n"
   ]
  },
  {
   "cell_type": "markdown",
   "metadata": {},
   "source": [
    "### 6. All the companies that don't include the `partners` field."
   ]
  },
  {
   "cell_type": "code",
   "execution_count": 12,
   "metadata": {},
   "outputs": [
    {
     "data": {
      "text/plain": [
       "[]"
      ]
     },
     "execution_count": 12,
     "metadata": {},
     "output_type": "execute_result"
    }
   ],
   "source": [
    "list(db.find({\"partners\": {\"$exists\":False}}))"
   ]
  },
  {
   "cell_type": "markdown",
   "metadata": {},
   "source": [
    "### 7. All the companies that have a null type of value on the `category_code` field."
   ]
  },
  {
   "cell_type": "code",
   "execution_count": 31,
   "metadata": {},
   "outputs": [
    {
     "data": {
      "text/plain": [
       "[{'_id': ObjectId('52cdef7c4bab8bd6752980f6'),\n",
       "  'name': 'Collective',\n",
       "  'permalink': 'collective',\n",
       "  'crunchbase_url': 'http://www.crunchbase.com/company/collective',\n",
       "  'homepage_url': None,\n",
       "  'blog_url': None,\n",
       "  'blog_feed_url': None,\n",
       "  'twitter_username': None,\n",
       "  'category_code': None,\n",
       "  'number_of_employees': None,\n",
       "  'founded_year': None,\n",
       "  'founded_month': None,\n",
       "  'founded_day': None,\n",
       "  'deadpooled_year': None,\n",
       "  'deadpooled_month': None,\n",
       "  'deadpooled_day': None,\n",
       "  'deadpooled_url': None,\n",
       "  'tag_list': None,\n",
       "  'alias_list': None,\n",
       "  'email_address': None,\n",
       "  'phone_number': None,\n",
       "  'description': None,\n",
       "  'created_at': 'Thu Sep 26 13:15:02 UTC 2013',\n",
       "  'updated_at': 'Thu Sep 26 13:15:02 UTC 2013',\n",
       "  'overview': None,\n",
       "  'image': None,\n",
       "  'products': [],\n",
       "  'relationships': [],\n",
       "  'competitions': [],\n",
       "  'providerships': [],\n",
       "  'total_money_raised': '$0',\n",
       "  'funding_rounds': [],\n",
       "  'investments': [],\n",
       "  'acquisition': None,\n",
       "  'acquisitions': [],\n",
       "  'offices': [],\n",
       "  'milestones': [],\n",
       "  'ipo': None,\n",
       "  'video_embeds': [],\n",
       "  'screenshots': [],\n",
       "  'external_links': [],\n",
       "  'partners': []},\n",
       " {'_id': ObjectId('52cdef7c4bab8bd675298225'),\n",
       "  'name': 'Snimmer',\n",
       "  'permalink': 'snimmer',\n",
       "  'crunchbase_url': 'http://www.crunchbase.com/company/snimmer',\n",
       "  'homepage_url': None,\n",
       "  'blog_url': None,\n",
       "  'blog_feed_url': None,\n",
       "  'twitter_username': None,\n",
       "  'category_code': None,\n",
       "  'number_of_employees': None,\n",
       "  'founded_year': None,\n",
       "  'founded_month': None,\n",
       "  'founded_day': None,\n",
       "  'deadpooled_year': None,\n",
       "  'deadpooled_month': None,\n",
       "  'deadpooled_day': None,\n",
       "  'deadpooled_url': None,\n",
       "  'tag_list': None,\n",
       "  'alias_list': None,\n",
       "  'email_address': None,\n",
       "  'phone_number': None,\n",
       "  'description': None,\n",
       "  'created_at': 'Sat Feb 09 20:35:27 UTC 2008',\n",
       "  'updated_at': 'Mon Mar 10 01:30:14 UTC 2008',\n",
       "  'overview': None,\n",
       "  'image': None,\n",
       "  'products': [],\n",
       "  'relationships': [],\n",
       "  'competitions': [],\n",
       "  'providerships': [],\n",
       "  'total_money_raised': '$0',\n",
       "  'funding_rounds': [],\n",
       "  'investments': [],\n",
       "  'acquisition': None,\n",
       "  'acquisitions': [],\n",
       "  'offices': [],\n",
       "  'milestones': [],\n",
       "  'ipo': None,\n",
       "  'video_embeds': [],\n",
       "  'screenshots': [],\n",
       "  'external_links': [],\n",
       "  'partners': []},\n",
       " {'_id': ObjectId('52cdef7c4bab8bd675298226'),\n",
       "  'name': 'KoolIM',\n",
       "  'permalink': 'koolim',\n",
       "  'crunchbase_url': 'http://www.crunchbase.com/company/koolim',\n",
       "  'homepage_url': None,\n",
       "  'blog_url': None,\n",
       "  'blog_feed_url': None,\n",
       "  'twitter_username': None,\n",
       "  'category_code': None,\n",
       "  'number_of_employees': None,\n",
       "  'founded_year': None,\n",
       "  'founded_month': None,\n",
       "  'founded_day': None,\n",
       "  'deadpooled_year': None,\n",
       "  'deadpooled_month': None,\n",
       "  'deadpooled_day': None,\n",
       "  'deadpooled_url': None,\n",
       "  'tag_list': '',\n",
       "  'alias_list': None,\n",
       "  'email_address': None,\n",
       "  'phone_number': None,\n",
       "  'description': None,\n",
       "  'created_at': 'Sat Feb 09 20:35:27 UTC 2008',\n",
       "  'updated_at': 'Mon Nov 29 19:02:26 UTC 2010',\n",
       "  'overview': '<p>KoolIM.com is a web messenger application that allows you to stay connected with your favorite instant messenger networks. They provide a friendly, light and very easy to use web-based interface with almost all core features from the original instant messenger. It works behind a firewall or proxy servers and there is no need to download and install any software or plug-ins.</p>\\n\\n<p>Supported networks:</p>\\n\\n<ul>\\n<li>AIM</li>\\n<li>ICQ</li>\\n<li>MSN</li>\\n<li>Yahoo</li>\\n<li>IRC</li>\\n<li>Jabber</li>\\n<li>Sametime</li>\\n<li>Simple</li>\\n<li>SIP</li>\\n<li>LCS</li>\\n</ul>',\n",
       "  'image': None,\n",
       "  'products': [],\n",
       "  'relationships': [{'is_past': True,\n",
       "    'title': 'Co-Founder',\n",
       "    'person': {'first_name': 'Yogesh',\n",
       "     'last_name': 'Patel',\n",
       "     'permalink': 'yogesh-patel'}}],\n",
       "  'competitions': [{'competitor': {'name': 'eBuddy', 'permalink': 'ebuddy'}}],\n",
       "  'providerships': [],\n",
       "  'total_money_raised': '$0',\n",
       "  'funding_rounds': [],\n",
       "  'investments': [],\n",
       "  'acquisition': None,\n",
       "  'acquisitions': [],\n",
       "  'offices': [],\n",
       "  'milestones': [],\n",
       "  'ipo': None,\n",
       "  'video_embeds': [],\n",
       "  'screenshots': [],\n",
       "  'external_links': [],\n",
       "  'partners': []}]"
      ]
     },
     "execution_count": 31,
     "metadata": {},
     "output_type": "execute_result"
    }
   ],
   "source": [
    "list(db.find({\"category_code\": {\"$type\":10}}).limit(3))\n"
   ]
  },
  {
   "cell_type": "markdown",
   "metadata": {},
   "source": [
    "### 8. All the companies that have at least 100 employees but less than 1000. Retrieve only the `name` and `number of employees` fields."
   ]
  },
  {
   "cell_type": "code",
   "execution_count": 25,
   "metadata": {},
   "outputs": [
    {
     "data": {
      "text/plain": [
       "[{'name': 'Zoho', 'number_of_employees': 1600},\n",
       " {'name': 'Facebook', 'number_of_employees': 5299},\n",
       " {'name': 'Twitter', 'number_of_employees': 1300},\n",
       " {'name': 'eBay', 'number_of_employees': 15000},\n",
       " {'name': 'Cisco', 'number_of_employees': 63000},\n",
       " {'name': 'Yahoo!', 'number_of_employees': 13600},\n",
       " {'name': 'Google', 'number_of_employees': 28000},\n",
       " {'name': 'Intel', 'number_of_employees': 86300},\n",
       " {'name': 'LinkedIn', 'number_of_employees': 4800},\n",
       " {'name': 'Nintendo', 'number_of_employees': 5080}]"
      ]
     },
     "execution_count": 25,
     "metadata": {},
     "output_type": "execute_result"
    }
   ],
   "source": [
    "query8= {'$and': [{'number_of_employees':{'$gt': 10}},\n",
    "                  {'number_of_employees':{'$gt': 1000}}]}\n",
    "filtro8= {'name': True, 'number_of_employees': True, '_id': False}\n",
    "list(db.find(query8, filtro8).limit(10))"
   ]
  },
  {
   "cell_type": "markdown",
   "metadata": {},
   "source": [
    "### 9. Order all the companies by their IPO price in a descending order."
   ]
  },
  {
   "cell_type": "code",
   "execution_count": 28,
   "metadata": {},
   "outputs": [
    {
     "data": {
      "text/plain": [
       "[{'name': 'GREE',\n",
       "  'ipo': {'valuation_amount': 108960000000.0,\n",
       "   'valuation_currency_code': 'JPY',\n",
       "   'pub_year': 2008,\n",
       "   'pub_month': 12,\n",
       "   'pub_day': 17,\n",
       "   'stock_symbol': '3632'}},\n",
       " {'name': 'Facebook',\n",
       "  'ipo': {'valuation_amount': 104000000000.0,\n",
       "   'valuation_currency_code': 'USD',\n",
       "   'pub_year': 2012,\n",
       "   'pub_month': 5,\n",
       "   'pub_day': 18,\n",
       "   'stock_symbol': 'NASDAQ:FB'}},\n",
       " {'name': 'Amazon',\n",
       "  'ipo': {'valuation_amount': 100000000000.0,\n",
       "   'valuation_currency_code': 'USD',\n",
       "   'pub_year': 1997,\n",
       "   'pub_month': 5,\n",
       "   'pub_day': None,\n",
       "   'stock_symbol': 'NASDAQ:AMZN'}}]"
      ]
     },
     "execution_count": 28,
     "metadata": {},
     "output_type": "execute_result"
    }
   ],
   "source": [
    "companies= {\"name\":1, \"_id\":0, \"ipo\":1}\n",
    "\n",
    "list(db.find({},companies).sort(\"ipo.valuation_amount\",-1).limit(3))\n"
   ]
  },
  {
   "cell_type": "markdown",
   "metadata": {},
   "source": [
    "### 10. Retrieve the 10 companies with more employees, order by the `number of employees`"
   ]
  },
  {
   "cell_type": "code",
   "execution_count": 30,
   "metadata": {},
   "outputs": [
    {
     "data": {
      "text/plain": [
       "[{'name': 'Siemens', 'number_of_employees': 405000},\n",
       " {'name': 'IBM', 'number_of_employees': 388000},\n",
       " {'name': 'Toyota', 'number_of_employees': 320000},\n",
       " {'name': 'PayPal', 'number_of_employees': 300000},\n",
       " {'name': 'Nippon Telegraph and Telephone Corporation',\n",
       "  'number_of_employees': 227000},\n",
       " {'name': 'Samsung Electronics', 'number_of_employees': 221726},\n",
       " {'name': 'Accenture', 'number_of_employees': 205000},\n",
       " {'name': 'Tata Consultancy Services', 'number_of_employees': 200300},\n",
       " {'name': 'Flextronics International', 'number_of_employees': 200000},\n",
       " {'name': 'Safeway', 'number_of_employees': 186000}]"
      ]
     },
     "execution_count": 30,
     "metadata": {},
     "output_type": "execute_result"
    }
   ],
   "source": [
    "companies2 = {\"name\":1, \"_id\":0, \"number_of_employees\":1}\n",
    "\n",
    "list(db.find({},companies2).sort(\"number_of_employees\",-1).limit(10))\n"
   ]
  },
  {
   "cell_type": "markdown",
   "metadata": {},
   "source": [
    "### 11. All the companies founded on the second semester of the year. Limit your search to 1000 companies."
   ]
  },
  {
   "cell_type": "code",
   "execution_count": 32,
   "metadata": {},
   "outputs": [
    {
     "data": {
      "text/plain": [
       "[{'name': 'Wetpaint', 'founded_month': 10},\n",
       " {'name': 'Zoho', 'founded_month': 9},\n",
       " {'name': 'Digg', 'founded_month': 10},\n",
       " {'name': 'Omnidrive', 'founded_month': 11},\n",
       " {'name': 'eBay', 'founded_month': 9}]"
      ]
     },
     "execution_count": 32,
     "metadata": {},
     "output_type": "execute_result"
    }
   ],
   "source": [
    "query11 = {'$and': [{\"founded_month\" : {\"$gt\":6}},\n",
    "                    {\"founded_month\" : {\"$lte\":12}}]}\n",
    "\n",
    "filtro11 = {\"name\":1, \"_id\":0, \"founded_month\":1}\n",
    "\n",
    "list(db.find(query11, filtro11).limit(5))\n",
    "\n"
   ]
  },
  {
   "cell_type": "markdown",
   "metadata": {},
   "source": [
    "### 12. All the companies founded before 2000 that have an acquisition amount of more than 10.000.00"
   ]
  },
  {
   "cell_type": "code",
   "execution_count": 34,
   "metadata": {},
   "outputs": [
    {
     "data": {
      "text/plain": [
       "[{'name': 'Postini',\n",
       "  'founded_year': 1999,\n",
       "  'acquisition': {'price_amount': 625000000}},\n",
       " {'name': 'SideStep',\n",
       "  'founded_year': 1999,\n",
       "  'acquisition': {'price_amount': 180000000}},\n",
       " {'name': 'Recipezaar',\n",
       "  'founded_year': 1999,\n",
       "  'acquisition': {'price_amount': 25000000}}]"
      ]
     },
     "execution_count": 34,
     "metadata": {},
     "output_type": "execute_result"
    }
   ],
   "source": [
    "query12 = {'$and': [{\"founded_year\" : {\"$lt\":2000}},\n",
    "                    {\"acquisition.price_amount\" : {\"$gt\":1000000}}]}\n",
    "filtro12 = {\"name\":1, \"_id\":0, \"founded_year\":1, \"acquisition.price_amount\":1}\n",
    "\n",
    "list(db.find(query12, filtro12).limit(3))\n"
   ]
  },
  {
   "cell_type": "markdown",
   "metadata": {},
   "source": [
    "### 13. All the companies that have been acquired after 2010, order by the acquisition amount, and retrieve only their `name` and `acquisition` field."
   ]
  },
  {
   "cell_type": "code",
   "execution_count": 42,
   "metadata": {},
   "outputs": [
    {
     "data": {
      "text/plain": [
       "[{'name': 'T-Mobile',\n",
       "  'acquisition': {'price_amount': 39000000000.0,\n",
       "   'price_currency_code': 'USD',\n",
       "   'term_code': None,\n",
       "   'source_url': 'http://techcrunch.com/2011/03/20/in-the-race-for-more-spectrum-att-is-acquiring-t-mobile-for-39-billion/',\n",
       "   'source_description': 'In The Race For More Spectrum, AT&T Is Acquiring T-Mobile For $39 Billion',\n",
       "   'acquired_year': 2011,\n",
       "   'acquired_month': 3,\n",
       "   'acquired_day': 20,\n",
       "   'acquiring_company': {'name': 'AT&T', 'permalink': 'at-t'}}},\n",
       " {'name': 'Goodrich Corporation',\n",
       "  'acquisition': {'price_amount': 18400000000.0,\n",
       "   'price_currency_code': 'USD',\n",
       "   'term_code': None,\n",
       "   'source_url': 'http://www.masshightech.com/stories/2011/09/19/daily37-UTC-shells-out-184-billion-for-Goodrich.html',\n",
       "   'source_description': 'UTC shells out $18.4 billion for Goodrich',\n",
       "   'acquired_year': 2011,\n",
       "   'acquired_month': 9,\n",
       "   'acquired_day': 22,\n",
       "   'acquiring_company': {'name': 'United Technologies',\n",
       "    'permalink': 'united-technologies'}}},\n",
       " {'name': 'LSI',\n",
       "  'acquisition': {'price_amount': 6600000000.0,\n",
       "   'price_currency_code': 'USD',\n",
       "   'term_code': 'cash',\n",
       "   'source_url': 'http://dealbook.nytimes.com/2013/12/16/avago-to-buy-lsi-for-6-6-billion/?_r=0',\n",
       "   'source_description': 'Avago to Buy LSI for $6.6 Billion',\n",
       "   'acquired_year': 2013,\n",
       "   'acquired_month': 12,\n",
       "   'acquired_day': 16,\n",
       "   'acquiring_company': {'name': 'Avago Technologies',\n",
       "    'permalink': 'avago-technologies'}}}]"
      ]
     },
     "execution_count": 42,
     "metadata": {},
     "output_type": "execute_result"
    }
   ],
   "source": [
    "query13= {\"acquisition.acquired_year\" : {\"$gt\":2010}}\n",
    "\n",
    "filtro13= {\"name\":1, \"_id\":0, \"acquisition\":1}\n",
    "\n",
    "list(db.find(query13, filtro13).sort(\"acquisition.price_amount\",-1).limit(3))\n",
    "\n"
   ]
  },
  {
   "cell_type": "markdown",
   "metadata": {},
   "source": [
    "### 14. Order the companies by their `founded year`, retrieving only their `name` and `founded year`."
   ]
  },
  {
   "cell_type": "code",
   "execution_count": 45,
   "metadata": {},
   "outputs": [
    {
     "data": {
      "text/plain": [
       "[{'name': 'Advaliant', 'founded_year': 2013},\n",
       " {'name': 'Wamba', 'founded_year': 2013},\n",
       " {'name': 'Fixya', 'founded_year': 2013}]"
      ]
     },
     "execution_count": 45,
     "metadata": {},
     "output_type": "execute_result"
    }
   ],
   "source": [
    "filtro14 = {\"name\":1, \"_id\":0, \"founded_year\":1}\n",
    "\n",
    "list(db.find({},filtro14).sort(\"founded_year\",-1).limit(3))"
   ]
  },
  {
   "cell_type": "markdown",
   "metadata": {},
   "source": [
    "### 15. All the companies that have been founded on the first seven days of the month, including the seventh. Sort them by their `acquisition price` in a descending order. Limit the search to 10 documents."
   ]
  },
  {
   "cell_type": "code",
   "execution_count": 46,
   "metadata": {},
   "outputs": [
    {
     "data": {
      "text/plain": [
       "[{'name': 'Netscape', 'founded_day': 4},\n",
       " {'name': 'PayPal', 'founded_day': 1},\n",
       " {'name': 'Zappos', 'founded_day': 1}]"
      ]
     },
     "execution_count": 46,
     "metadata": {},
     "output_type": "execute_result"
    }
   ],
   "source": [
    "\n",
    "query15 ={'$and': [{\"founded_day\" : {\"$lte\":7}},\n",
    "                   {\"founded_day\" : {\"$gte\":1}}]}\n",
    "\n",
    "filtro15 = {\"name\":1, \"_id\":0, \"founded_day\":1}\n",
    "\n",
    "list(db.find(query15, filtro15).sort(\"acquisition.price_amount\",-1).limit(3))"
   ]
  },
  {
   "cell_type": "markdown",
   "metadata": {},
   "source": [
    "### 16. All the companies on the 'web' `category` that have more than 4000 employees. Sort them by the amount of employees in ascending order."
   ]
  },
  {
   "cell_type": "code",
   "execution_count": 48,
   "metadata": {},
   "outputs": [
    {
     "data": {
      "text/plain": [
       "[{'name': 'Expedia', 'category_code': 'web', 'number_of_employees': 4400},\n",
       " {'name': 'AOL', 'category_code': 'web', 'number_of_employees': 8000},\n",
       " {'name': 'Webkinz', 'category_code': 'web', 'number_of_employees': 8657}]"
      ]
     },
     "execution_count": 48,
     "metadata": {},
     "output_type": "execute_result"
    }
   ],
   "source": [
    "query16 = {'$and': [{\"category_code\" : \"web\"},\n",
    "                    {\"number_of_employees\" : {\"$gt\":4000}}]}\n",
    "\n",
    "filtro16 = {\"name\":1, \"_id\":0, \"category_code\":1, \"number_of_employees\":1}\n",
    "\n",
    "list(db.find(query16, filtro16).sort(\"number_of_employees\",1).limit(3))\n"
   ]
  },
  {
   "cell_type": "markdown",
   "metadata": {},
   "source": [
    "### 17. All the companies whose acquisition amount is more than 10.000.000, and currency is 'EUR'."
   ]
  },
  {
   "cell_type": "code",
   "execution_count": 49,
   "metadata": {},
   "outputs": [
    {
     "data": {
      "text/plain": [
       "[{'name': 'ZYB',\n",
       "  'acquisition': {'price_amount': 31500000, 'price_currency_code': 'EUR'}},\n",
       " {'name': 'Apertio',\n",
       "  'acquisition': {'price_amount': 140000000, 'price_currency_code': 'EUR'}},\n",
       " {'name': 'Greenfield Online',\n",
       "  'acquisition': {'price_amount': 40000000, 'price_currency_code': 'EUR'}}]"
      ]
     },
     "execution_count": 49,
     "metadata": {},
     "output_type": "execute_result"
    }
   ],
   "source": [
    "query17 = {'$and': [{\"acquisition.price_amount\" : {\"$gt\":10000000}},\n",
    "                    {\"acquisition.price_currency_code\" : \"EUR\"}]}\n",
    "\n",
    "filtro17 = {\"name\":1, \"_id\":0, \"acquisition.price_amount\":1, \"acquisition.price_currency_code\":1}\n",
    "\n",
    "list(db.find(query17, filtro17).limit(3))\n"
   ]
  },
  {
   "cell_type": "markdown",
   "metadata": {},
   "source": [
    "### 18. All the companies that have been acquired on the first trimester of the year. Limit the search to 10 companies, and retrieve only their `name` and `acquisition` fields."
   ]
  },
  {
   "cell_type": "code",
   "execution_count": 50,
   "metadata": {},
   "outputs": [
    {
     "data": {
      "text/plain": [
       "[{'name': 'StumbleUpon',\n",
       "  'acquisition': {'price_amount': 29000000,\n",
       "   'price_currency_code': 'USD',\n",
       "   'term_code': None,\n",
       "   'source_url': 'http://techcrunch.com/2009/04/13/ebay-unacquires-stumbleupon/',\n",
       "   'source_description': \"StumbleUpon Beats Skype In Escaping EBay's Clutches\",\n",
       "   'acquired_year': 2009,\n",
       "   'acquired_month': 4,\n",
       "   'acquired_day': None,\n",
       "   'acquiring_company': {'name': 'StumbleUpon', 'permalink': 'stumbleupon'}}},\n",
       " {'name': 'Kyte',\n",
       "  'acquisition': {'price_amount': None,\n",
       "   'price_currency_code': 'USD',\n",
       "   'term_code': None,\n",
       "   'source_url': 'http://techcrunch.com/2011/01/31/exclusive-kit-digital-acquires-kickapps-kewego-and-kyte-for-77-2-million/',\n",
       "   'source_description': 'KIT digital Acquires KickApps, Kewego AND Kyte For $77.2 Million',\n",
       "   'acquired_year': 2011,\n",
       "   'acquired_month': 1,\n",
       "   'acquired_day': 31,\n",
       "   'acquiring_company': {'name': 'KIT digital', 'permalink': 'kit-digital'}}},\n",
       " {'name': 'Veoh',\n",
       "  'acquisition': {'price_amount': None,\n",
       "   'price_currency_code': 'USD',\n",
       "   'term_code': None,\n",
       "   'source_url': 'http://techcrunch.com/2010/04/07/qlipso-veoh/',\n",
       "   'source_description': \"Qlipso's CEO Explains Why He Bought Veoh\",\n",
       "   'acquired_year': 2010,\n",
       "   'acquired_month': 4,\n",
       "   'acquired_day': 7,\n",
       "   'acquiring_company': {'name': 'Qlipso', 'permalink': 'qlipso'}}}]"
      ]
     },
     "execution_count": 50,
     "metadata": {},
     "output_type": "execute_result"
    }
   ],
   "source": [
    "query18 = {'$and': [{\"acquisition.acquired_month\" : {\"$gte\":1}},\n",
    "            {\"acquisition.acquired_month\" : {\"$lte\":4}}]}\n",
    "\n",
    "filtro18 = {\"name\":1, \"_id\":0, \"acquisition\":1}\n",
    "\n",
    "list(db.find(query18, filtro18).limit(3))\n"
   ]
  },
  {
   "cell_type": "markdown",
   "metadata": {},
   "source": [
    "# Bonus\n",
    "### 19. All the companies that have been founded between 2000 and 2010, but have not been acquired before 2011."
   ]
  },
  {
   "cell_type": "code",
   "execution_count": null,
   "metadata": {},
   "outputs": [],
   "source": [
    "# Your Code"
   ]
  },
  {
   "cell_type": "markdown",
   "metadata": {},
   "source": [
    "### 20. All the companies that have been 'deadpooled' after the third year."
   ]
  },
  {
   "cell_type": "code",
   "execution_count": null,
   "metadata": {},
   "outputs": [],
   "source": [
    "# Your Code"
   ]
  }
 ],
 "metadata": {
  "kernelspec": {
   "display_name": "Python 3 (ipykernel)",
   "language": "python",
   "name": "python3"
  },
  "language_info": {
   "codemirror_mode": {
    "name": "ipython",
    "version": 3
   },
   "file_extension": ".py",
   "mimetype": "text/x-python",
   "name": "python",
   "nbconvert_exporter": "python",
   "pygments_lexer": "ipython3",
   "version": "3.9.13"
  }
 },
 "nbformat": 4,
 "nbformat_minor": 2
}
