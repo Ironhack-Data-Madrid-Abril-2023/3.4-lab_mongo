{
 "cells": [
  {
   "cell_type": "markdown",
   "metadata": {},
   "source": [
    "# Advanced Querying Mongo"
   ]
  },
  {
   "cell_type": "markdown",
   "metadata": {},
   "source": [
    "Importing libraries and setting up connection"
   ]
  },
  {
   "cell_type": "code",
   "execution_count": 1,
   "metadata": {},
   "outputs": [
    {
     "name": "stdout",
     "output_type": "stream",
     "text": [
      "Requirement already satisfied: pymongo in /Users/joseluisreguera/opt/anaconda3/lib/python3.9/site-packages (4.3.3)\n",
      "Requirement already satisfied: dnspython<3.0.0,>=1.16.0 in /Users/joseluisreguera/opt/anaconda3/lib/python3.9/site-packages (from pymongo) (2.3.0)\n",
      "Note: you may need to restart the kernel to use updated packages.\n"
     ]
    }
   ],
   "source": [
    "%pip install pymongo\n",
    "\n",
    "import pandas as pd\n",
    "from pymongo import MongoClient\n",
    "client = MongoClient(\"companies\")"
   ]
  },
  {
   "cell_type": "code",
   "execution_count": 2,
   "metadata": {},
   "outputs": [
    {
     "data": {
      "text/plain": [
       "MongoClient(host=['localhost:27017'], document_class=dict, tz_aware=False, connect=True)"
      ]
     },
     "execution_count": 2,
     "metadata": {},
     "output_type": "execute_result"
    }
   ],
   "source": [
    "cursor=MongoClient()\n",
    "\n",
    "cursor"
   ]
  },
  {
   "cell_type": "markdown",
   "metadata": {},
   "source": [
    "### 1. All the companies whose name match 'Babelgum'. Retrieve only their `name` field."
   ]
  },
  {
   "cell_type": "code",
   "execution_count": 3,
   "metadata": {},
   "outputs": [
    {
     "data": {
      "text/plain": [
       "['admin', 'companies', 'config', 'local', 'sdf']"
      ]
     },
     "execution_count": 3,
     "metadata": {},
     "output_type": "execute_result"
    }
   ],
   "source": [
    "cursor.list_database_names()"
   ]
  },
  {
   "cell_type": "code",
   "execution_count": 4,
   "metadata": {},
   "outputs": [],
   "source": [
    "db=cursor.companies"
   ]
  },
  {
   "cell_type": "code",
   "execution_count": 5,
   "metadata": {},
   "outputs": [],
   "source": [
    "colec = db.nose"
   ]
  },
  {
   "cell_type": "code",
   "execution_count": 9,
   "metadata": {},
   "outputs": [
    {
     "data": {
      "text/plain": [
       "[{'_id': ObjectId('52cdef7c4bab8bd675297da0'), 'name': 'Babelgum'}]"
      ]
     },
     "execution_count": 9,
     "metadata": {},
     "output_type": "execute_result"
    }
   ],
   "source": [
    "list(colec.find({'name':'Babelgum'},{'name':True}))"
   ]
  },
  {
   "cell_type": "markdown",
   "metadata": {},
   "source": [
    "### 2. All the companies that have more than 5000 employees. Limit the search to 20 companies and sort them by **number of employees**."
   ]
  },
  {
   "cell_type": "code",
   "execution_count": 13,
   "metadata": {},
   "outputs": [
    {
     "data": {
      "text/plain": [
       "[{'_id': ObjectId('52cdef7c4bab8bd675297e49'), 'name': 'Nintendo'},\n",
       " {'_id': ObjectId('52cdef7e4bab8bd67529ba2e'),\n",
       "  'name': 'Hexaware Technologies'},\n",
       " {'_id': ObjectId('52cdef7c4bab8bd675297d8e'), 'name': 'Facebook'},\n",
       " {'_id': ObjectId('52cdef7e4bab8bd67529a453'), 'name': 'OpenText'},\n",
       " {'_id': ObjectId('52cdef7d4bab8bd675298b89'), 'name': 'LSI'},\n",
       " {'_id': ObjectId('52cdef7e4bab8bd67529b9dd'), 'name': 'CPM Braxis'},\n",
       " {'_id': ObjectId('52cdef7e4bab8bd67529b691'),\n",
       "  'name': 'Microchip Technologies'},\n",
       " {'_id': ObjectId('52cdef7e4bab8bd67529a84c'), 'name': 'Mediaset'},\n",
       " {'_id': ObjectId('52cdef7d4bab8bd675299f38'),\n",
       "  'name': 'Mindray Medical International'},\n",
       " {'_id': ObjectId('52cdef7c4bab8bd675298760'), 'name': 'Baidu'},\n",
       " {'_id': ObjectId('52cdef7d4bab8bd675298b6f'), 'name': 'Dentsu'},\n",
       " {'_id': ObjectId('52cdef7e4bab8bd67529aeec'), 'name': 'Tata Communications'},\n",
       " {'_id': ObjectId('52cdef7e4bab8bd67529bd33'), 'name': 'Atmel'},\n",
       " {'_id': ObjectId('52cdef7d4bab8bd675299a81'), 'name': 'Acxiom'},\n",
       " {'_id': ObjectId('52cdef7d4bab8bd6752996f7'), 'name': 'Acxiom'},\n",
       " {'_id': ObjectId('52cdef7d4bab8bd675298e43'), 'name': 'SRA International'},\n",
       " {'_id': ObjectId('52cdef7f4bab8bd67529bd50'), 'name': \"Moody's\"},\n",
       " {'_id': ObjectId('52cdef7f4bab8bd67529c364'), 'name': 'ManTech'},\n",
       " {'_id': ObjectId('52cdef7c4bab8bd675297e5d'), 'name': 'Adobe Systems'},\n",
       " {'_id': ObjectId('52cdef7e4bab8bd67529ac9c'), 'name': 'Broadcom'}]"
      ]
     },
     "execution_count": 13,
     "metadata": {},
     "output_type": "execute_result"
    }
   ],
   "source": [
    "list(colec.find({\"number_of_employees\": {\"$gt\": 5000}},{'name':True}).limit(20).sort(\"number_of_employees\", 1))"
   ]
  },
  {
   "cell_type": "markdown",
   "metadata": {},
   "source": [
    "### 3. All the companies founded between 2000 and 2005, both years included. Retrieve only the `name` and `founded_year` fields."
   ]
  },
  {
   "cell_type": "code",
   "execution_count": 31,
   "metadata": {},
   "outputs": [
    {
     "data": {
      "text/plain": [
       "[{'name': 'Wetpaint', 'founded_year': 2005},\n",
       " {'name': 'Zoho', 'founded_year': 2005},\n",
       " {'name': 'Digg', 'founded_year': 2004},\n",
       " {'name': 'Facebook', 'founded_year': 2004},\n",
       " {'name': 'Omnidrive', 'founded_year': 2005},\n",
       " {'name': 'StumbleUpon', 'founded_year': 2002},\n",
       " {'name': 'Gizmoz', 'founded_year': 2003},\n",
       " {'name': 'Helio', 'founded_year': 2005},\n",
       " {'name': 'Plaxo', 'founded_year': 2002},\n",
       " {'name': 'Technorati', 'founded_year': 2002},\n",
       " {'name': 'AddThis', 'founded_year': 2004},\n",
       " {'name': 'Veoh', 'founded_year': 2004},\n",
       " {'name': 'Jingle Networks', 'founded_year': 2005},\n",
       " {'name': 'Meetup', 'founded_year': 2002},\n",
       " {'name': 'LifeLock', 'founded_year': 2005},\n",
       " {'name': 'Wesabe', 'founded_year': 2005},\n",
       " {'name': 'Jangl SMS', 'founded_year': 2005},\n",
       " {'name': 'SmugMug', 'founded_year': 2002},\n",
       " {'name': 'Jajah', 'founded_year': 2005},\n",
       " {'name': 'Skype', 'founded_year': 2003}]"
      ]
     },
     "execution_count": 31,
     "metadata": {},
     "output_type": "execute_result"
    }
   ],
   "source": [
    "list(colec.find({\"founded_year\": {\"$gte\": 2000, \"$lte\": 2005}}, {\"name\": 1, \"founded_year\": 1, \"_id\": 0}).limit(20))\n",
    "\n",
    "# lo limito a 20 porque salen un montón de resultados"
   ]
  },
  {
   "cell_type": "markdown",
   "metadata": {},
   "source": [
    "### 4. All the companies that had a Valuation Amount of more than 100.000.000 and have been founded before 2010. Retrieve only the `name` and `ipo` fields."
   ]
  },
  {
   "cell_type": "code",
   "execution_count": 106,
   "metadata": {},
   "outputs": [
    {
     "data": {
      "text/plain": [
       "[{'name': 'Facebook',\n",
       "  'ipo': {'valuation_amount': 104000000000.0,\n",
       "   'valuation_currency_code': 'USD',\n",
       "   'pub_year': 2012,\n",
       "   'pub_month': 5,\n",
       "   'pub_day': 18,\n",
       "   'stock_symbol': 'NASDAQ:FB'}},\n",
       " {'name': 'Twitter',\n",
       "  'ipo': {'valuation_amount': 18100000000.0,\n",
       "   'valuation_currency_code': 'USD',\n",
       "   'pub_year': 2013,\n",
       "   'pub_month': 11,\n",
       "   'pub_day': 7,\n",
       "   'stock_symbol': 'NYSE:TWTR'}}]"
      ]
     },
     "execution_count": 106,
     "metadata": {},
     "output_type": "execute_result"
    }
   ],
   "source": [
    "list(colec.find({\"$and\": [{\"ipo.valuation_amount\": {\"$gt\": 100000000}}, {\"founded_year\": {\"$lt\": 2010}}]}, {\"name\": 1, \"ipo\": 1, \"_id\": 0}).limit(2))\n",
    "\n",
    "# pongo limit dos porque se vuelve enorme"
   ]
  },
  {
   "cell_type": "markdown",
   "metadata": {},
   "source": [
    "### 5. All the companies that have less than 1000 employees and have been founded before 2005. Order them by the number of employees and limit the search to 10 companies."
   ]
  },
  {
   "cell_type": "code",
   "execution_count": 108,
   "metadata": {},
   "outputs": [
    {
     "data": {
      "text/plain": [
       "[{'name': 'Fox Interactive Media', 'number_of_employees': 0},\n",
       " {'name': 'Ticketmaster', 'number_of_employees': 0},\n",
       " {'name': 'Eurekster', 'number_of_employees': 0},\n",
       " {'name': 'MindTouch', 'number_of_employees': 0},\n",
       " {'name': 'Skype', 'number_of_employees': 0},\n",
       " {'name': 'Monster', 'number_of_employees': 0},\n",
       " {'name': 'EditGrid', 'number_of_employees': 0},\n",
       " {'name': 'Simpy', 'number_of_employees': 0},\n",
       " {'name': 'Compete', 'number_of_employees': 0},\n",
       " {'name': 'stylediary', 'number_of_employees': 0}]"
      ]
     },
     "execution_count": 108,
     "metadata": {},
     "output_type": "execute_result"
    }
   ],
   "source": [
    "list(colec.find({\"$and\": [{\"number_of_employees\": {\"$lt\": 1000}}, {\"founded_year\": {\"$lt\": 2005}}]}, {\"name\": 1, \"number_of_employees\": 1, \"_id\": 0}).sort(\"number_of_employees\", 1).limit(10))\n"
   ]
  },
  {
   "cell_type": "markdown",
   "metadata": {},
   "source": [
    "### 6. All the companies that don't include the `partners` field."
   ]
  },
  {
   "cell_type": "code",
   "execution_count": 109,
   "metadata": {},
   "outputs": [
    {
     "data": {
      "text/plain": [
       "[{'name': 'Wetpaint'},\n",
       " {'name': 'AdventNet'},\n",
       " {'name': 'Zoho'},\n",
       " {'name': 'Digg'},\n",
       " {'name': 'Facebook'},\n",
       " {'name': 'Omnidrive'},\n",
       " {'name': 'Postini'},\n",
       " {'name': 'Geni'},\n",
       " {'name': 'Flektor'},\n",
       " {'name': 'Fox Interactive Media'}]"
      ]
     },
     "execution_count": 109,
     "metadata": {},
     "output_type": "execute_result"
    }
   ],
   "source": [
    "list(colec.find({'partners': {'$nin': [0]}}, {'name': True, '_id': False}).limit(10))"
   ]
  },
  {
   "cell_type": "markdown",
   "metadata": {},
   "source": [
    "### 7. All the companies that have a null type of value on the `category_code` field."
   ]
  },
  {
   "cell_type": "code",
   "execution_count": 61,
   "metadata": {},
   "outputs": [
    {
     "data": {
      "text/plain": [
       "[{'_id': ObjectId('52cdef7c4bab8bd6752980f6'), 'name': 'Collective'},\n",
       " {'_id': ObjectId('52cdef7c4bab8bd675298225'), 'name': 'Snimmer'},\n",
       " {'_id': ObjectId('52cdef7c4bab8bd675298226'), 'name': 'KoolIM'},\n",
       " {'_id': ObjectId('52cdef7c4bab8bd675298261'), 'name': 'Level9 Media'},\n",
       " {'_id': ObjectId('52cdef7c4bab8bd675298262'), 'name': 'VidKing'},\n",
       " {'_id': ObjectId('52cdef7c4bab8bd67529826e'), 'name': 'Drigg'},\n",
       " {'_id': ObjectId('52cdef7c4bab8bd675298276'), 'name': 'SpaceTime'}]"
      ]
     },
     "execution_count": 61,
     "metadata": {},
     "output_type": "execute_result"
    }
   ],
   "source": [
    "list(colec.find({\"category_code\": None},{'name':True}).limit(7))"
   ]
  },
  {
   "cell_type": "markdown",
   "metadata": {},
   "source": [
    "### 8. All the companies that have at least 100 employees but less than 1000. Retrieve only the `name` and `number of employees` fields."
   ]
  },
  {
   "cell_type": "code",
   "execution_count": 110,
   "metadata": {},
   "outputs": [
    {
     "data": {
      "text/plain": [
       "[{'name': 'AdventNet', 'number_of_employees': 600},\n",
       " {'name': 'AddThis', 'number_of_employees': 120},\n",
       " {'name': 'OpenX', 'number_of_employees': 305},\n",
       " {'name': 'LifeLock', 'number_of_employees': 644},\n",
       " {'name': 'Jajah', 'number_of_employees': 110},\n",
       " {'name': 'Livestream', 'number_of_employees': 120},\n",
       " {'name': 'Ustream', 'number_of_employees': 250},\n",
       " {'name': 'iContact', 'number_of_employees': 300},\n",
       " {'name': 'Yelp', 'number_of_employees': 800},\n",
       " {'name': 'Dailymotion', 'number_of_employees': 120}]"
      ]
     },
     "execution_count": 110,
     "metadata": {},
     "output_type": "execute_result"
    }
   ],
   "source": [
    "list(colec.find({\"$and\": [{\"number_of_employees\": {\"$gte\": 100}}, {\"number_of_employees\": {\"$lt\": 1000}}]}, {\"name\": 1, \"number_of_employees\": 1, \"_id\":0}).limit(10))"
   ]
  },
  {
   "cell_type": "markdown",
   "metadata": {},
   "source": [
    "### 9. Order all the companies by their IPO price in a descending order."
   ]
  },
  {
   "cell_type": "code",
   "execution_count": 63,
   "metadata": {},
   "outputs": [],
   "source": [
    "# dice Yona que no nos rayemos con este, que pasemos al siguiente"
   ]
  },
  {
   "cell_type": "markdown",
   "metadata": {},
   "source": [
    "### 10. Retrieve the 10 companies with more employees, order by the `number of employees`"
   ]
  },
  {
   "cell_type": "code",
   "execution_count": 71,
   "metadata": {},
   "outputs": [
    {
     "data": {
      "text/plain": [
       "[{'name': 'Siemens', 'number_of_employees': 405000},\n",
       " {'name': 'IBM', 'number_of_employees': 388000},\n",
       " {'name': 'Toyota', 'number_of_employees': 320000},\n",
       " {'name': 'PayPal', 'number_of_employees': 300000},\n",
       " {'name': 'Nippon Telegraph and Telephone Corporation',\n",
       "  'number_of_employees': 227000},\n",
       " {'name': 'Samsung Electronics', 'number_of_employees': 221726},\n",
       " {'name': 'Accenture', 'number_of_employees': 205000},\n",
       " {'name': 'Tata Consultancy Services', 'number_of_employees': 200300},\n",
       " {'name': 'Flextronics International', 'number_of_employees': 200000},\n",
       " {'name': 'Safeway', 'number_of_employees': 186000}]"
      ]
     },
     "execution_count": 71,
     "metadata": {},
     "output_type": "execute_result"
    }
   ],
   "source": [
    "list(colec.find({},{\"name\": 1, \"number_of_employees\": 1, \"_id\":0}).sort(\"number_of_employees\", -1).limit(10))\n",
    "\n",
    "# le digo que me muestre sólo las columnas name y number of employees"
   ]
  },
  {
   "cell_type": "markdown",
   "metadata": {},
   "source": [
    "### 11. All the companies founded on the second semester of the year. Limit your search to 1000 companies."
   ]
  },
  {
   "cell_type": "code",
   "execution_count": 72,
   "metadata": {},
   "outputs": [
    {
     "data": {
      "text/plain": [
       "[{'name': 'Wetpaint'},\n",
       " {'name': 'Zoho'},\n",
       " {'name': 'Digg'},\n",
       " {'name': 'Facebook'},\n",
       " {'name': 'Omnidrive'},\n",
       " {'name': 'Postini'},\n",
       " {'name': 'Geni'},\n",
       " {'name': 'Fox Interactive Media'},\n",
       " {'name': 'Twitter'},\n",
       " {'name': 'StumbleUpon'}]"
      ]
     },
     "execution_count": 72,
     "metadata": {},
     "output_type": "execute_result"
    }
   ],
   "source": [
    "list(colec.find({\n",
    "    \"founded_month\": {\"$gte\": 7},\n",
    "    \"founded_month\": {\"$lte\": 12}\n",
    "}, {\"name\": 1, \"_id\":0}).limit(10))"
   ]
  },
  {
   "cell_type": "markdown",
   "metadata": {},
   "source": [
    "### 12. All the companies founded before 2000 that have an acquisition amount of more than 10.000.00"
   ]
  },
  {
   "cell_type": "code",
   "execution_count": 77,
   "metadata": {},
   "outputs": [
    {
     "data": {
      "text/plain": [
       "[{'name': 'Postini'},\n",
       " {'name': 'SideStep'},\n",
       " {'name': 'Recipezaar'},\n",
       " {'name': 'PayPal'},\n",
       " {'name': 'Snapfish'}]"
      ]
     },
     "execution_count": 77,
     "metadata": {},
     "output_type": "execute_result"
    }
   ],
   "source": [
    "list(colec.find({\"founded_year\": {\"$lt\": 2000},\"acquisition.price_amount\": {\"$gt\": 10000000}}, {\"name\": 1, \"_id\": 0}).limit(5))"
   ]
  },
  {
   "cell_type": "markdown",
   "metadata": {},
   "source": [
    "### 13. All the companies that have been acquired after 2010, order by the acquisition amount, and retrieve only their `name` and `acquisition` field."
   ]
  },
  {
   "cell_type": "code",
   "execution_count": 90,
   "metadata": {},
   "outputs": [
    {
     "data": {
      "text/plain": [
       "[{'_id': ObjectId('52cdef7c4bab8bd675298876'),\n",
       "  'name': 'T-Mobile',\n",
       "  'acquisition': {'price_amount': 39000000000.0}},\n",
       " {'_id': ObjectId('52cdef7f4bab8bd67529c228'),\n",
       "  'name': 'Goodrich Corporation',\n",
       "  'acquisition': {'price_amount': 18400000000.0}},\n",
       " {'_id': ObjectId('52cdef7d4bab8bd675298b89'),\n",
       "  'name': 'LSI',\n",
       "  'acquisition': {'price_amount': 6600000000.0}},\n",
       " {'_id': ObjectId('52cdef7e4bab8bd67529a2b5'),\n",
       "  'name': 'National Semiconductor',\n",
       "  'acquisition': {'price_amount': 6500000000.0}},\n",
       " {'_id': ObjectId('52cdef7d4bab8bd675298935'),\n",
       "  'name': 'Ariba',\n",
       "  'acquisition': {'price_amount': 4300000000.0}},\n",
       " {'_id': ObjectId('52cdef7f4bab8bd67529bff7'),\n",
       "  'name': 'NetLogic Microsystems',\n",
       "  'acquisition': {'price_amount': 3700000000.0}},\n",
       " {'_id': ObjectId('52cdef7c4bab8bd6752981d6'),\n",
       "  'name': 'SuccessFactors',\n",
       "  'acquisition': {'price_amount': 3400000000.0}},\n",
       " {'_id': ObjectId('52cdef7e4bab8bd67529aba6'),\n",
       "  'name': 'Qualcomm Atheros',\n",
       "  'acquisition': {'price_amount': 3100000000.0}},\n",
       " {'_id': ObjectId('52cdef7d4bab8bd675299ab1'),\n",
       "  'name': 'Global Crossing',\n",
       "  'acquisition': {'price_amount': 3000000000.0}},\n",
       " {'_id': ObjectId('52cdef7d4bab8bd675299727'),\n",
       "  'name': 'Global Crossing',\n",
       "  'acquisition': {'price_amount': 3000000000.0}}]"
      ]
     },
     "execution_count": 90,
     "metadata": {},
     "output_type": "execute_result"
    }
   ],
   "source": [
    "docs = colec.find({\"acquisition.acquired_year\": {\"$gt\": 2010}}, {\"name\": 1, \"acquisition.price_amount\": 1}).sort(\"acquisition.price_amount\", -1).limit(10)\n",
    "list(docs)"
   ]
  },
  {
   "cell_type": "code",
   "execution_count": 112,
   "metadata": {},
   "outputs": [
    {
     "data": {
      "text/plain": [
       "[{'name': 'blogTV',\n",
       "  'acquisition': {'price_amount': None,\n",
       "   'price_currency_code': 'USD',\n",
       "   'term_code': None,\n",
       "   'source_url': 'http://techcrunch.com/2013/03/13/younow-buys-blogtv/',\n",
       "   'source_description': 'Live Social Video Network YouNow Acquires Streaming Service BlogTV',\n",
       "   'acquired_year': 2013,\n",
       "   'acquired_month': 3,\n",
       "   'acquired_day': 13,\n",
       "   'acquiring_company': {'name': 'YouNow', 'permalink': 'younow'}}},\n",
       " {'name': 'Kyte',\n",
       "  'acquisition': {'price_amount': None,\n",
       "   'price_currency_code': 'USD',\n",
       "   'term_code': None,\n",
       "   'source_url': 'http://techcrunch.com/2011/01/31/exclusive-kit-digital-acquires-kickapps-kewego-and-kyte-for-77-2-million/',\n",
       "   'source_description': 'KIT digital Acquires KickApps, Kewego AND Kyte For $77.2 Million',\n",
       "   'acquired_year': 2011,\n",
       "   'acquired_month': 1,\n",
       "   'acquired_day': 31,\n",
       "   'acquiring_company': {'name': 'KIT digital', 'permalink': 'kit-digital'}}},\n",
       " {'name': 'Geni',\n",
       "  'acquisition': {'price_amount': None,\n",
       "   'price_currency_code': 'USD',\n",
       "   'term_code': None,\n",
       "   'source_url': 'http://techcrunch.com/2012/11/28/all-in-the-family-myheritage-buys-former-yammer-stablemate-geni-com-raises-25m/',\n",
       "   'source_description': 'MyHeritage acquires Geni and $25M to build family tree of the whole world',\n",
       "   'acquired_year': 2012,\n",
       "   'acquired_month': 11,\n",
       "   'acquired_day': 28,\n",
       "   'acquiring_company': {'name': 'MyHeritage', 'permalink': 'myheritage'}}}]"
      ]
     },
     "execution_count": 112,
     "metadata": {},
     "output_type": "execute_result"
    }
   ],
   "source": [
    "list(colec.find({\"acquisition.acquired_year\": {\"$gt\": 2010}}, {\"name\": 1, \"acquisition\": 1, \"_id\": 0}).sort(\"acquisition.price_amount\", 1).limit(3))\n"
   ]
  },
  {
   "cell_type": "markdown",
   "metadata": {},
   "source": [
    "### 14. Order the companies by their `founded year`, retrieving only their `name` and `founded year`."
   ]
  },
  {
   "cell_type": "code",
   "execution_count": 114,
   "metadata": {},
   "outputs": [
    {
     "name": "stdout",
     "output_type": "stream",
     "text": [
      "Info None\n",
      "Lala None\n",
      "NetRatings None\n",
      "JotSpot None\n",
      "Flektor None\n",
      "Tun3r None\n",
      "There None\n",
      "SpinVox None\n",
      "Mercora None\n",
      "Gannett None\n"
     ]
    }
   ],
   "source": [
    "docs = colec.find({}, {\"name\": 1, \"founded_year\": 1}).sort(\"founded_year\", 1).limit(10)\n",
    "\n",
    "for doc in docs:\n",
    "    print(doc[\"name\"], doc[\"founded_year\"])\n",
    "\n",
    "    \n",
    "\n",
    "# hago esto pero me salen las fechas de fundación como None. Puede ser porque ese elemento esté vacío?"
   ]
  },
  {
   "cell_type": "markdown",
   "metadata": {},
   "source": [
    "### 15. All the companies that have been founded on the first seven days of the month, including the seventh. Sort them by their `acquisition price` in a descending order. Limit the search to 10 documents."
   ]
  },
  {
   "cell_type": "code",
   "execution_count": 96,
   "metadata": {},
   "outputs": [
    {
     "data": {
      "text/plain": [
       "[{'name': 'Netscape', 'acquisition': {'price_amount': 4200000000.0}},\n",
       " {'name': 'PayPal', 'acquisition': {'price_amount': 1500000000}},\n",
       " {'name': 'Zappos', 'acquisition': {'price_amount': 1200000000}},\n",
       " {'name': 'Alibaba', 'acquisition': {'price_amount': 1000000000}},\n",
       " {'name': 'Postini', 'acquisition': {'price_amount': 625000000}},\n",
       " {'name': 'Danger', 'acquisition': {'price_amount': 500000000}},\n",
       " {'name': 'Clearwell Systems', 'acquisition': {'price_amount': 410000000}},\n",
       " {'name': 'PrimeSense', 'acquisition': {'price_amount': 345000000}},\n",
       " {'name': 'Amobee', 'acquisition': {'price_amount': 321000000}},\n",
       " {'name': 'Vitrue', 'acquisition': {'price_amount': 300000000}}]"
      ]
     },
     "execution_count": 96,
     "metadata": {},
     "output_type": "execute_result"
    }
   ],
   "source": [
    "list(colec.find({\"founded_day\": {\"$lte\": 7}}, {\"_id\": 0, \"name\": 1, \"acquisition.price_amount\": 1}).sort(\"acquisition.price_amount\", -1).limit(10))\n"
   ]
  },
  {
   "cell_type": "markdown",
   "metadata": {},
   "source": [
    "### 16. All the companies on the 'web' `category` that have more than 4000 employees. Sort them by the amount of employees in ascending order."
   ]
  },
  {
   "cell_type": "code",
   "execution_count": 99,
   "metadata": {},
   "outputs": [
    {
     "data": {
      "text/plain": [
       "[{'name': 'Expedia', 'number_of_employees': 4400},\n",
       " {'name': 'AOL', 'number_of_employees': 8000},\n",
       " {'name': 'Webkinz', 'number_of_employees': 8657},\n",
       " {'name': 'Rakuten', 'number_of_employees': 10000},\n",
       " {'name': 'Los Angeles Times Media Group', 'number_of_employees': 10000},\n",
       " {'name': 'Groupon', 'number_of_employees': 10000},\n",
       " {'name': 'Yahoo!', 'number_of_employees': 13600},\n",
       " {'name': 'eBay', 'number_of_employees': 15000},\n",
       " {'name': 'Experian', 'number_of_employees': 15500}]"
      ]
     },
     "execution_count": 99,
     "metadata": {},
     "output_type": "execute_result"
    }
   ],
   "source": [
    "list(colec.find({\"category_code\": \"web\", \"number_of_employees\": {\"$gt\": 4000}}, {\"_id\": 0, \"name\": 1, \"number_of_employees\": 1}).sort(\"number_of_employees\", 1).limit(10))\n"
   ]
  },
  {
   "cell_type": "markdown",
   "metadata": {},
   "source": [
    "### 17. All the companies whose acquisition amount is more than 10.000.000, and currency is 'EUR'."
   ]
  },
  {
   "cell_type": "code",
   "execution_count": 100,
   "metadata": {},
   "outputs": [
    {
     "data": {
      "text/plain": [
       "[{'name': 'ZYB',\n",
       "  'acquisition': {'price_amount': 31500000,\n",
       "   'price_currency_code': 'EUR',\n",
       "   'term_code': 'cash',\n",
       "   'source_url': 'http://www.techcrunch.com/2008/05/16/danish-mobile-social-network-zyb-acquired-by-vodafone-for-e315-million/',\n",
       "   'source_description': 'Danish Network ZYB Acquired By Vodafone For â‚¬31.5 million',\n",
       "   'acquired_year': 2008,\n",
       "   'acquired_month': 5,\n",
       "   'acquired_day': 16,\n",
       "   'acquiring_company': {'name': 'Vodafone', 'permalink': 'vodafone'}}},\n",
       " {'name': 'Apertio',\n",
       "  'acquisition': {'price_amount': 140000000,\n",
       "   'price_currency_code': 'EUR',\n",
       "   'term_code': None,\n",
       "   'source_url': 'http://www.techcrunch.com/2008/01/03/nokia-siemens-acquires-apertio-for-e140m/',\n",
       "   'source_description': 'Nokia Siemens Acquires Apertio For â‚¬140m',\n",
       "   'acquired_year': 2008,\n",
       "   'acquired_month': 1,\n",
       "   'acquired_day': 3,\n",
       "   'acquiring_company': {'name': 'Nokia Siemens Networks',\n",
       "    'permalink': 'nokia-siemens-networks'}}},\n",
       " {'name': 'Greenfield Online',\n",
       "  'acquisition': {'price_amount': 40000000,\n",
       "   'price_currency_code': 'EUR',\n",
       "   'term_code': None,\n",
       "   'source_url': 'http://www.research-live.com/news/m-and-a/toluna-buys-greenfield-online-survey-business-for-$40m/4000346.article',\n",
       "   'source_description': 'Toluna buys Greenfield Online survey business for $40m',\n",
       "   'acquired_year': 2009,\n",
       "   'acquired_month': 6,\n",
       "   'acquired_day': 26,\n",
       "   'acquiring_company': {'name': 'Toluna', 'permalink': 'toluna'}}}]"
      ]
     },
     "execution_count": 100,
     "metadata": {},
     "output_type": "execute_result"
    }
   ],
   "source": [
    "list(colec.find({\"acquisition.price_amount\": {\"$gt\": 10000000}, \"acquisition.price_currency_code\": \"EUR\"}, {\"_id\": 0, \"name\": 1, \"acquisition\": 1}).limit(3))\n"
   ]
  },
  {
   "cell_type": "markdown",
   "metadata": {},
   "source": [
    "### 18. All the companies that have been acquired on the first trimester of the year. Limit the search to 10 companies, and retrieve only their `name` and `acquisition` fields."
   ]
  },
  {
   "cell_type": "code",
   "execution_count": 115,
   "metadata": {},
   "outputs": [
    {
     "data": {
      "text/plain": [
       "[{'name': 'T-Mobile',\n",
       "  'acquisition': {'price_amount': 39000000000.0,\n",
       "   'price_currency_code': 'USD',\n",
       "   'term_code': None,\n",
       "   'source_url': 'http://techcrunch.com/2011/03/20/in-the-race-for-more-spectrum-att-is-acquiring-t-mobile-for-39-billion/',\n",
       "   'source_description': 'In The Race For More Spectrum, AT&T Is Acquiring T-Mobile For $39 Billion',\n",
       "   'acquired_year': 2011,\n",
       "   'acquired_month': 3,\n",
       "   'acquired_day': 20,\n",
       "   'acquiring_company': {'name': 'AT&T', 'permalink': 'at-t'}}},\n",
       " {'name': 'BEA Systems',\n",
       "  'acquisition': {'price_amount': 8500000000.0,\n",
       "   'price_currency_code': 'USD',\n",
       "   'term_code': None,\n",
       "   'source_url': 'http://www.oracle.com/corporate/press/2008_jan/bea.html',\n",
       "   'source_description': 'Oracle to Acquire BEA Systems',\n",
       "   'acquired_year': 2008,\n",
       "   'acquired_month': 1,\n",
       "   'acquired_day': 16,\n",
       "   'acquiring_company': {'name': 'Oracle Corporation',\n",
       "    'permalink': 'oracle'}}},\n",
       " {'name': 'Puget Energy',\n",
       "  'acquisition': {'price_amount': 7400000000.0,\n",
       "   'price_currency_code': 'USD',\n",
       "   'term_code': 'cash',\n",
       "   'source_url': 'http://www.xconomy.com/seattle/2009/02/09/puget-energy-goes-private-for-74b/',\n",
       "   'source_description': 'xconomy',\n",
       "   'acquired_year': 2009,\n",
       "   'acquired_month': 2,\n",
       "   'acquired_day': 9,\n",
       "   'acquiring_company': {'name': 'Puget Holdings',\n",
       "    'permalink': 'puget-holdings'}}},\n",
       " {'name': 'Pixar',\n",
       "  'acquisition': {'price_amount': 7400000000.0,\n",
       "   'price_currency_code': 'USD',\n",
       "   'term_code': 'stock',\n",
       "   'source_url': 'http://www.pixar.com/companyinfo/about_us/overview.htm',\n",
       "   'source_description': 'Pixar About Page',\n",
       "   'acquired_year': 2006,\n",
       "   'acquired_month': 1,\n",
       "   'acquired_day': 24,\n",
       "   'acquiring_company': {'name': 'The Walt Disney Company',\n",
       "    'permalink': 'the-walt-disney-company'}}},\n",
       " {'name': 'Siebel Systems',\n",
       "  'acquisition': {'price_amount': 5850000000.0,\n",
       "   'price_currency_code': 'USD',\n",
       "   'term_code': 'stock',\n",
       "   'source_url': 'http://www.oracle.com/corporate/press/2006_jan/sieb_cl.html',\n",
       "   'source_description': 'Oracle Agrees to Buy Siebel for $10.66 a Share  ',\n",
       "   'acquired_year': 2006,\n",
       "   'acquired_month': 1,\n",
       "   'acquired_day': 31,\n",
       "   'acquiring_company': {'name': 'Oracle Corporation',\n",
       "    'permalink': 'oracle'}}}]"
      ]
     },
     "execution_count": 115,
     "metadata": {},
     "output_type": "execute_result"
    }
   ],
   "source": [
    "list(colec.find({\"acquisition.acquired_month\": {\"$lte\": 3}}, {\"_id\": 0, \"name\": 1, \"acquisition\": 1}).sort(\"acquisition.price_amount\", -1).limit(5))\n"
   ]
  },
  {
   "cell_type": "markdown",
   "metadata": {},
   "source": [
    "# Bonus\n",
    "### 19. All the companies that have been founded between 2000 and 2010, but have not been acquired before 2011."
   ]
  },
  {
   "cell_type": "code",
   "execution_count": null,
   "metadata": {},
   "outputs": [],
   "source": [
    "# Your Code"
   ]
  },
  {
   "cell_type": "markdown",
   "metadata": {},
   "source": [
    "### 20. All the companies that have been 'deadpooled' after the third year."
   ]
  },
  {
   "cell_type": "code",
   "execution_count": null,
   "metadata": {},
   "outputs": [],
   "source": [
    "# Your Code"
   ]
  }
 ],
 "metadata": {
  "kernelspec": {
   "display_name": "Python 3 (ipykernel)",
   "language": "python",
   "name": "python3"
  },
  "language_info": {
   "codemirror_mode": {
    "name": "ipython",
    "version": 3
   },
   "file_extension": ".py",
   "mimetype": "text/x-python",
   "name": "python",
   "nbconvert_exporter": "python",
   "pygments_lexer": "ipython3",
   "version": "3.9.13"
  }
 },
 "nbformat": 4,
 "nbformat_minor": 2
}
