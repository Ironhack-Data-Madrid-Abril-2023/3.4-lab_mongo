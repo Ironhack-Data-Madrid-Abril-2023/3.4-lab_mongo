{
 "cells": [
  {
   "cell_type": "markdown",
   "metadata": {},
   "source": [
    "# Advanced Querying Mongo"
   ]
  },
  {
   "cell_type": "markdown",
   "metadata": {},
   "source": [
    "Importing libraries and setting up connection"
   ]
  },
  {
   "cell_type": "code",
   "execution_count": 1,
   "metadata": {},
   "outputs": [],
   "source": [
    "from pymongo import MongoClient\n",
    "client = MongoClient()\n",
    "\n",
    "str_conn='mongodb://localhost:27017'\n",
    "\n",
    "cursor=MongoClient(str_conn)\n",
    "\n",
    "db = cursor.companies\n",
    "colec = db.IH "
   ]
  },
  {
   "cell_type": "code",
   "execution_count": 2,
   "metadata": {},
   "outputs": [],
   "source": [
    "# cursor.list_database_names()\n",
    "\n",
    "# list(colec.find())"
   ]
  },
  {
   "cell_type": "markdown",
   "metadata": {},
   "source": [
    "### 1. All the companies whose name match 'Babelgum'. Retrieve only their `name` field."
   ]
  },
  {
   "cell_type": "code",
   "execution_count": 3,
   "metadata": {},
   "outputs": [
    {
     "data": {
      "text/plain": [
       "[{'name': 'Babelgum'}]"
      ]
     },
     "execution_count": 3,
     "metadata": {},
     "output_type": "execute_result"
    }
   ],
   "source": [
    "# Your Code\n",
    "\n",
    "query = {'name': 'Babelgum'}\n",
    "select = {'_id': 0, 'name': 1}\n",
    "res = colec.find(query, select)\n",
    "\n",
    "list(res)\n",
    "\n"
   ]
  },
  {
   "cell_type": "markdown",
   "metadata": {},
   "source": [
    "### 2. All the companies that have more than 5000 employees. Limit the search to 20 companies and sort them by **number of employees**."
   ]
  },
  {
   "cell_type": "code",
   "execution_count": 4,
   "metadata": {},
   "outputs": [],
   "source": [
    "# Your Code\n",
    "\n",
    "query = {'number_of_employees': {'$gt' : 5000}}\n",
    "res = colec.find(query).sort('number_of_employees', 1).limit(20)\n",
    "# list(res)"
   ]
  },
  {
   "cell_type": "markdown",
   "metadata": {},
   "source": [
    "### 3. All the companies founded between 2000 and 2005, both years included. Retrieve only the `name` and `founded_year` fields."
   ]
  },
  {
   "cell_type": "code",
   "execution_count": 5,
   "metadata": {},
   "outputs": [],
   "source": [
    "# Your Code\n",
    "\n",
    "query = {'$and': [{'founded_year': {'$gte': 2000}},\n",
    "                 {'founded_year': {'$lte': 2005}}]}\n",
    "\n",
    "select = {'_id': 0, 'name': 1, 'founded_year': 1}\n",
    "\n",
    "res = colec.find(query, select)\n",
    "\n",
    "# list(res)"
   ]
  },
  {
   "cell_type": "markdown",
   "metadata": {},
   "source": [
    "### 4. All the companies that had a Valuation Amount of more than 100.000.000 and have been founded before 2010. Retrieve only the `name` and `ipo` fields."
   ]
  },
  {
   "cell_type": "code",
   "execution_count": 6,
   "metadata": {},
   "outputs": [],
   "source": [
    "# Your Code\n",
    "\n",
    "query = {'$and': [{'ipo.valuation_amount': {'$gt': 10e7}},\n",
    "                  {'founded_year': {'$lt': 2010}}]}\n",
    "\n",
    "select = {'_id': 0, 'ipo': 1, 'name': 1}\n",
    "\n",
    "res = colec.find(query, select)\n",
    "# list(res)"
   ]
  },
  {
   "cell_type": "markdown",
   "metadata": {},
   "source": [
    "### 5. All the companies that have less than 1000 employees and have been founded before 2005. Order them by the number of employees and limit the search to 10 companies."
   ]
  },
  {
   "cell_type": "code",
   "execution_count": 7,
   "metadata": {},
   "outputs": [],
   "source": [
    "# Your Code\n",
    "\n",
    "query = {'$and': [{'number_of_employees': {'$lt': 1000}},\n",
    "                 {'founded_year': {'$gt': 2005}}]}\n",
    "\n",
    "select = {'_id':0, 'number_of_employees': 1, 'founded_year': 1}\n",
    "\n",
    "res = colec.find(query, select).sort('number_of_employees', -1).limit(10)\n",
    "# list(res)"
   ]
  },
  {
   "cell_type": "markdown",
   "metadata": {},
   "source": [
    "### 6. All the companies that don't include the `partners` field."
   ]
  },
  {
   "cell_type": "code",
   "execution_count": 8,
   "metadata": {},
   "outputs": [
    {
     "data": {
      "text/plain": [
       "[]"
      ]
     },
     "execution_count": 8,
     "metadata": {},
     "output_type": "execute_result"
    }
   ],
   "source": [
    "# Your Code\n",
    "\n",
    "query = {'partners': {'$exists': False}}\n",
    "select = {'_id': 0, 'name': 1}\n",
    "res = colec.find(query)\n",
    "list(res)\n",
    "\n",
    "#no hay companies que no tengan partners"
   ]
  },
  {
   "cell_type": "markdown",
   "metadata": {},
   "source": [
    "### 7. All the companies that have a null type of value on the `category_code` field."
   ]
  },
  {
   "cell_type": "code",
   "execution_count": 9,
   "metadata": {},
   "outputs": [],
   "source": [
    "# Your Code\n",
    "\n",
    "query = {'category_code': None}\n",
    "select = {'_id': 0, 'name': 1}\n",
    "res = colec.find(query, select)\n",
    "# list(res)"
   ]
  },
  {
   "cell_type": "markdown",
   "metadata": {},
   "source": [
    "### 8. All the companies that have at least 100 employees but less than 1000. Retrieve only the `name` and `number of employees` fields."
   ]
  },
  {
   "cell_type": "code",
   "execution_count": 10,
   "metadata": {},
   "outputs": [],
   "source": [
    "# Your Code\n",
    "\n",
    "query = {'$and': [{'number_of_employees': {'$gte': 100}},\n",
    "                  {'number_of_employees': {'$lt': 1000}}] }\n",
    "\n",
    "select = {'_id': 0,  'name': 1, 'number_of_employees': 1}\n",
    "res = colec.find(query, select)\n",
    "# list(res)"
   ]
  },
  {
   "cell_type": "markdown",
   "metadata": {},
   "source": [
    "### 9. Order all the companies by their IPO price in a descending order."
   ]
  },
  {
   "cell_type": "code",
   "execution_count": 24,
   "metadata": {},
   "outputs": [],
   "source": [
    "# Your Code\n",
    "select = {'_id': 0, 'ipo': 1, 'name': 1}\n",
    "\n",
    "res = colec.find({}, select).sort('ipo.valuation_amount', -1)\n",
    "# list(res)"
   ]
  },
  {
   "cell_type": "markdown",
   "metadata": {},
   "source": [
    "### 10. Retrieve the 10 companies with more employees, order by the `number of employees`"
   ]
  },
  {
   "cell_type": "code",
   "execution_count": 26,
   "metadata": {},
   "outputs": [],
   "source": [
    "# Your Code\n",
    "\n",
    "select = {'_id': 0,  'name': 1, 'number_of_employees': 1}\n",
    "res = colec.find({}, select).sort('number_of_employees', -1).limit(10)\n",
    "# list(res)"
   ]
  },
  {
   "cell_type": "markdown",
   "metadata": {},
   "source": [
    "### 11. All the companies founded on the second semester of the year. Limit your search to 1000 companies."
   ]
  },
  {
   "cell_type": "code",
   "execution_count": 33,
   "metadata": {},
   "outputs": [],
   "source": [
    "# Your Code\n",
    "query = {'$and': [{'founded_month': {'$gte': 7}}]}\n",
    "select = {'_id': 0,  'name': 1, 'founded_month': 1}\n",
    "res = colec.find(query, select).limit(1000)\n",
    "# list(res)"
   ]
  },
  {
   "cell_type": "markdown",
   "metadata": {},
   "source": [
    "### 12. All the companies founded before 2000 that have an acquisition amount of more than 10.000.00"
   ]
  },
  {
   "cell_type": "code",
   "execution_count": 41,
   "metadata": {},
   "outputs": [],
   "source": [
    "# Your Code\n",
    "\n",
    "query = {'$and': [{'acquisition.price_amount': {'$gt': 10e7}},\n",
    "                 {'founded_year': {'$lt': 2000}}]}\n",
    "\n",
    "select = {'_id':0, 'acquisition.price_amount': 1, 'founded_year': 1}\n",
    "\n",
    "res = colec.find(query, select).limit(10)\n",
    "# list(res)"
   ]
  },
  {
   "cell_type": "markdown",
   "metadata": {},
   "source": [
    "### 13. All the companies that have been acquired after 2010, order by the acquisition amount, and retrieve only their `name` and `acquisition` field."
   ]
  },
  {
   "cell_type": "code",
   "execution_count": 47,
   "metadata": {},
   "outputs": [],
   "source": [
    "# Your Code\n",
    "query = {'acquisitions.acquired_year': {'$gt': 2010}}\n",
    "\n",
    "select = {'_id':0, 'acquisitions': 1, 'name': 1}\n",
    "\n",
    "res = colec.find(query, select).limit(10)\n",
    "# list(res)"
   ]
  },
  {
   "cell_type": "markdown",
   "metadata": {},
   "source": [
    "### 14. Order the companies by their `founded year`, retrieving only their `name` and `founded year`."
   ]
  },
  {
   "cell_type": "code",
   "execution_count": 50,
   "metadata": {},
   "outputs": [],
   "source": [
    "# Your Code\n",
    "select = {'_id':0, 'name': 1, 'founded_year': 1}\n",
    "\n",
    "res = colec.find({}, select).sort('founded_year', -1)\n",
    "# list(res)"
   ]
  },
  {
   "cell_type": "markdown",
   "metadata": {},
   "source": [
    "### 15. All the companies that have been founded on the first seven days of the month, including the seventh. Sort them by their `acquisition price` in a descending order. Limit the search to 10 documents."
   ]
  },
  {
   "cell_type": "code",
   "execution_count": 52,
   "metadata": {},
   "outputs": [],
   "source": [
    "# Your Code\n",
    "\n",
    "query = {'acquisitions.acquired_day': {'$lte': 7}}\n",
    "\n",
    "select = {'_id':0, 'name': 1, 'acquisitions.acquired_day': 1}\n",
    "\n",
    "res = colec.find(query, select).sort('acquisition.price_amount', -1).limit(10)\n",
    "# list(res)"
   ]
  },
  {
   "cell_type": "markdown",
   "metadata": {},
   "source": [
    "### 16. All the companies on the 'web' `category` that have more than 4000 employees. Sort them by the amount of employees in ascending order."
   ]
  },
  {
   "cell_type": "code",
   "execution_count": 54,
   "metadata": {},
   "outputs": [],
   "source": [
    "# Your Code\n",
    "\n",
    "query = {'$and': [{'number_of_employees': {'$gt': 4000}},\n",
    "                {'category_code': 'web'}]}\n",
    "select = {'number_of_employees': 1, 'category_code': 1, '_id': 0}\n",
    "res = colec.find(query, select).sort('number_of_employees', 1)\n",
    "# list(res)"
   ]
  },
  {
   "cell_type": "markdown",
   "metadata": {},
   "source": [
    "### 17. All the companies whose acquisition amount is more than 10.000.000, and currency is 'EUR'."
   ]
  },
  {
   "cell_type": "code",
   "execution_count": 65,
   "metadata": {},
   "outputs": [],
   "source": [
    "# Your Code\n",
    "query = {'$and': [{'acquisition.price_amount': {'$gt': 10e6}},\n",
    "                {'acquisition.price_currency_code': 'EUR'}]}\n",
    "select = {'name': 1, 'acquisition.price_currency_code': 1, '_id': 0}\n",
    "res = colec.find(query, select)\n",
    "# list(res)"
   ]
  },
  {
   "cell_type": "markdown",
   "metadata": {},
   "source": [
    "### 18. All the companies that have been acquired on the first trimester of the year. Limit the search to 10 companies, and retrieve only their `name` and `acquisition` fields."
   ]
  },
  {
   "cell_type": "code",
   "execution_count": 69,
   "metadata": {},
   "outputs": [
    {
     "data": {
      "text/plain": [
       "[{'name': 'Facebook', 'acquisition': None},\n",
       " {'name': 'Twitter', 'acquisition': None},\n",
       " {'name': 'eBay', 'acquisition': None},\n",
       " {'name': 'CBS', 'acquisition': None},\n",
       " {'name': 'Viacom', 'acquisition': None},\n",
       " {'name': 'Cisco', 'acquisition': None},\n",
       " {'name': 'Yahoo!', 'acquisition': None},\n",
       " {'name': 'OpenX', 'acquisition': None},\n",
       " {'name': 'LifeLock', 'acquisition': None},\n",
       " {'name': 'Google', 'acquisition': None}]"
      ]
     },
     "execution_count": 69,
     "metadata": {},
     "output_type": "execute_result"
    }
   ],
   "source": [
    "# Your Code\n",
    "query = {'acquisitions.acquired_month': {'$lt': 4}}\n",
    "select = {'acquisition': 1, 'name': 1, '_id': 0}\n",
    "res = colec.find(query, select).limit(10)\n",
    "# list(res)"
   ]
  },
  {
   "cell_type": "markdown",
   "metadata": {},
   "source": [
    "# Bonus\n",
    "### 19. All the companies that have been founded between 2000 and 2010, but have not been acquired before 2011."
   ]
  },
  {
   "cell_type": "code",
   "execution_count": 2,
   "metadata": {},
   "outputs": [
    {
     "ename": "NameError",
     "evalue": "name 'colec' is not defined",
     "output_type": "error",
     "traceback": [
      "\u001b[1;31m---------------------------------------------------------------------------\u001b[0m",
      "\u001b[1;31mNameError\u001b[0m                                 Traceback (most recent call last)",
      "Cell \u001b[1;32mIn[2], line 8\u001b[0m\n\u001b[0;32m      2\u001b[0m query \u001b[39m=\u001b[39m {\u001b[39m'\u001b[39m\u001b[39m$and\u001b[39m\u001b[39m'\u001b[39m: [{\u001b[39m'\u001b[39m\u001b[39mfounded_year\u001b[39m\u001b[39m'\u001b[39m: {\u001b[39m'\u001b[39m\u001b[39m$gte\u001b[39m\u001b[39m'\u001b[39m: \u001b[39m2000\u001b[39m}},\n\u001b[0;32m      3\u001b[0m                  {\u001b[39m'\u001b[39m\u001b[39mfounded_year\u001b[39m\u001b[39m'\u001b[39m: {\u001b[39m'\u001b[39m\u001b[39m$lte\u001b[39m\u001b[39m'\u001b[39m: \u001b[39m2010\u001b[39m}},\n\u001b[0;32m      4\u001b[0m                  {\u001b[39m'\u001b[39m\u001b[39macquisitions.acquired_year\u001b[39m\u001b[39m'\u001b[39m: {\u001b[39m'\u001b[39m\u001b[39m$lt\u001b[39m\u001b[39m'\u001b[39m: \u001b[39m2011\u001b[39m}}]}\n\u001b[0;32m      6\u001b[0m select \u001b[39m=\u001b[39m {\u001b[39m'\u001b[39m\u001b[39m_id\u001b[39m\u001b[39m'\u001b[39m: \u001b[39m0\u001b[39m, \u001b[39m'\u001b[39m\u001b[39mname\u001b[39m\u001b[39m'\u001b[39m: \u001b[39m1\u001b[39m, \u001b[39m'\u001b[39m\u001b[39macquisitions.acquired_year\u001b[39m\u001b[39m'\u001b[39m: \u001b[39m1\u001b[39m}\n\u001b[1;32m----> 8\u001b[0m res \u001b[39m=\u001b[39m colec\u001b[39m.\u001b[39mfind(query, select)\n\u001b[0;32m      9\u001b[0m \u001b[39m# list(res)\u001b[39;00m\n",
      "\u001b[1;31mNameError\u001b[0m: name 'colec' is not defined"
     ]
    }
   ],
   "source": [
    "# Your Code\n",
    "query = {'$and': [{'founded_year': {'$gte': 2000}},\n",
    "                 {'founded_year': {'$lte': 2010}},\n",
    "                 {'acquisitions.acquired_year': {'$lt': 2011}}]}\n",
    "\n",
    "select = {'_id': 0, 'name': 1, 'acquisitions.acquired_year': 1}\n",
    "\n",
    "res = colec.find(query, select)\n",
    "# list(res)"
   ]
  },
  {
   "cell_type": "markdown",
   "metadata": {},
   "source": [
    "### 20. All the companies that have been 'deadpooled' after the third year."
   ]
  },
  {
   "cell_type": "code",
   "execution_count": 22,
   "metadata": {},
   "outputs": [],
   "source": [
    "# Your Code"
   ]
  }
 ],
 "metadata": {
  "kernelspec": {
   "display_name": "Python 3",
   "language": "python",
   "name": "python3"
  },
  "language_info": {
   "codemirror_mode": {
    "name": "ipython",
    "version": 3
   },
   "file_extension": ".py",
   "mimetype": "text/x-python",
   "name": "python",
   "nbconvert_exporter": "python",
   "pygments_lexer": "ipython3",
   "version": "3.11.3"
  }
 },
 "nbformat": 4,
 "nbformat_minor": 2
}
